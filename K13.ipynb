{
 "cells": [
  {
   "cell_type": "markdown",
   "metadata": {},
   "source": [
    "# 1. Load Data"
   ]
  },
  {
   "cell_type": "code",
   "execution_count": 1,
   "metadata": {
    "_cell_guid": "b1076dfc-b9ad-4769-8c92-a6c4dae69d19",
    "_uuid": "8f2839f25d086af736a60e9eeb907d3b93b6e0e5",
    "execution": {
     "iopub.execute_input": "2021-09-13T00:27:24.231792Z",
     "iopub.status.busy": "2021-09-13T00:27:24.231372Z",
     "iopub.status.idle": "2021-09-13T00:27:24.258742Z",
     "shell.execute_reply": "2021-09-13T00:27:24.257783Z",
     "shell.execute_reply.started": "2021-09-13T00:27:24.231706Z"
    },
    "trusted": true
   },
   "outputs": [
    {
     "name": "stdout",
     "output_type": "stream",
     "text": [
      "input/Answers.csv\n",
      "input/Questions.csv\n",
      "input/Tags.csv\n",
      "input/2009.csv\n",
      "input/2010.csv\n",
      "input/2011.csv\n",
      "input/2017-07_bme280sof.csv\n",
      "input/2017-07_sds011sof.csv\n",
      "input/2017-08_bme280sof.csv\n",
      "input/2017-08_sds011sof.csv\n",
      "input/2017-09_bme280sof.csv\n",
      "input/2017-09_sds011sof.csv\n",
      "input/2017-10_bme280sof.csv\n",
      "input/2017-10_sds011sof.csv\n",
      "input/2017-11_bme280sof.csv\n",
      "input/2017-11_sds011sof.csv\n",
      "input/2017-12_bme280sof.csv\n",
      "input/2017-12_sds011sof.csv\n",
      "input/2018-01_bme280sof.csv\n",
      "input/2018-01_sds011sof.csv\n",
      "input/2018-02_bme280sof.csv\n",
      "input/2018-02_sds011sof.csv\n",
      "input/2018-03_bme280sof.csv\n",
      "input/2018-03_sds011sof.csv\n",
      "input/2018-04_bme280sof.csv\n",
      "input/2018-04_sds011sof.csv\n",
      "input/2018-05_bme280sof.csv\n",
      "input/2018-05_sds011sof.csv\n",
      "input/2018-06_bme280sof.csv\n",
      "input/2018-06_sds011sof.csv\n",
      "input/2018-07_bme280sof.csv\n",
      "input/2018-07_sds011sof.csv\n",
      "input/2018-08_bme280sof.csv\n",
      "input/2018-08_sds011sof.csv\n",
      "input/2018-09_bme280sof.csv\n",
      "input/2018-09_sds011sof.csv\n",
      "input/2018-10_bme280sof.csv\n",
      "input/2018-10_sds011sof.csv\n",
      "input/2018-11_bme280sof.csv\n",
      "input/2018-11_sds011sof.csv\n",
      "input/2018-12_bme280sof.csv\n",
      "input/2018-12_sds011sof.csv\n",
      "input/2019-01_bme280sof.csv\n",
      "input/2019-01_sds011sof.csv\n",
      "input/2019-02_bme280sof.csv\n",
      "input/2019-02_sds011sof.csv\n",
      "input/2019-03_bme280sof.csv\n",
      "input/2019-03_sds011sof.csv\n",
      "input/2019-04_bme280sof.csv\n",
      "input/2019-04_sds011sof.csv\n",
      "input/2019-05_bme280sof.csv\n",
      "input/2019-05_sds011sof.csv\n",
      "input/2019-06_bme280sof.csv\n",
      "input/2019-06_sds011sof.csv\n",
      "input/2019-07_bme280sof.csv\n",
      "input/2019-07_sds011sof.csv\n",
      "input/tweets.csv\n",
      "input/392-crypto-currency-pairs-at-minute-resolution/btcusd.csv\n",
      "input/392-crypto-currency-pairs-at-minute-resolution/ethusd.csv\n",
      "input/392-crypto-currency-pairs-at-minute-resolution/ltcusd.csv\n",
      "input/392-crypto-currency-pairs-at-minute-resolution/xrpusd.csv\n",
      "input/ecommerce-behavior-data-from-multi-category-store/2019-Nov.csv\n",
      "input/ecommerce-behavior-data-from-multi-category-store/2019-Oct.csv\n",
      "input/nyc-parking-tickets/Parking_Violations_Issued_-_Fiscal_Year_2016.csv\n"
     ]
    }
   ],
   "source": [
    "# This Python 3 environment comes with many helpful analytics libraries installed\n",
    "# It is defined by the kaggle/python Docker image: https://github.com/kaggle/docker-python\n",
    "# For example, here's several helpful packages to load\n",
    "\n",
    "import numpy as np # linear algebra\n",
    "import pandas as pd # data processing, CSV file I/O (e.g. pd.read_csv)\n",
    "\n",
    "# Input data files are available in the read-only \"../input/\" directory\n",
    "# For example, running this (by clicking run or pressing Shift+Enter) will list all files under the input directory\n",
    "\n",
    "import os\n",
    "for dirname, _, filenames in os.walk('input'):\n",
    "    for filename in filenames:\n",
    "        print(os.path.join(dirname, filename))\n",
    "\n",
    "# You can write up to 20GB to the current directory (/kaggle/working/) that gets preserved as output when you create a version using \"Save & Run All\" \n",
    "# You can also write temporary files to /kaggle/temp/, but they won't be saved outside of the current session"
   ]
  },
  {
   "cell_type": "code",
   "execution_count": 2,
   "metadata": {
    "execution": {
     "iopub.execute_input": "2021-09-13T00:27:28.258303Z",
     "iopub.status.busy": "2021-09-13T00:27:28.257754Z",
     "iopub.status.idle": "2021-09-13T00:28:58.875195Z",
     "shell.execute_reply": "2021-09-13T00:28:58.874385Z",
     "shell.execute_reply.started": "2021-09-13T00:27:28.258253Z"
    },
    "trusted": true
   },
   "outputs": [],
   "source": [
    "answers_data = pd.read_csv('input/Answers.csv', encoding = \"ISO-8859-1\")\n",
    "questions_data = pd.read_csv('input/Questions.csv', encoding = \"ISO-8859-1\")\n",
    "tags_data = pd.read_csv('input/Tags.csv', encoding = \"ISO-8859-1\")"
   ]
  },
  {
   "cell_type": "code",
   "execution_count": 3,
   "metadata": {
    "execution": {
     "iopub.execute_input": "2021-09-13T00:29:03.838431Z",
     "iopub.status.busy": "2021-09-13T00:29:03.837863Z",
     "iopub.status.idle": "2021-09-13T00:29:03.872653Z",
     "shell.execute_reply": "2021-09-13T00:29:03.87135Z",
     "shell.execute_reply.started": "2021-09-13T00:29:03.838395Z"
    },
    "trusted": true
   },
   "outputs": [
    {
     "name": "stdout",
     "output_type": "stream",
     "text": [
      "(2014516, 6)\n"
     ]
    },
    {
     "data": {
      "text/html": [
       "<div>\n",
       "<style scoped>\n",
       "    .dataframe tbody tr th:only-of-type {\n",
       "        vertical-align: middle;\n",
       "    }\n",
       "\n",
       "    .dataframe tbody tr th {\n",
       "        vertical-align: top;\n",
       "    }\n",
       "\n",
       "    .dataframe thead th {\n",
       "        text-align: right;\n",
       "    }\n",
       "</style>\n",
       "<table border=\"1\" class=\"dataframe\">\n",
       "  <thead>\n",
       "    <tr style=\"text-align: right;\">\n",
       "      <th></th>\n",
       "      <th>Id</th>\n",
       "      <th>OwnerUserId</th>\n",
       "      <th>CreationDate</th>\n",
       "      <th>ParentId</th>\n",
       "      <th>Score</th>\n",
       "      <th>Body</th>\n",
       "    </tr>\n",
       "  </thead>\n",
       "  <tbody>\n",
       "    <tr>\n",
       "      <th>0</th>\n",
       "      <td>92</td>\n",
       "      <td>61.0</td>\n",
       "      <td>2008-08-01T14:45:37Z</td>\n",
       "      <td>90</td>\n",
       "      <td>13</td>\n",
       "      <td>&lt;p&gt;&lt;a href=\"http://svnbook.red-bean.com/\"&gt;Vers...</td>\n",
       "    </tr>\n",
       "    <tr>\n",
       "      <th>1</th>\n",
       "      <td>124</td>\n",
       "      <td>26.0</td>\n",
       "      <td>2008-08-01T16:09:47Z</td>\n",
       "      <td>80</td>\n",
       "      <td>12</td>\n",
       "      <td>&lt;p&gt;I wound up using this. It is a kind of a ha...</td>\n",
       "    </tr>\n",
       "    <tr>\n",
       "      <th>2</th>\n",
       "      <td>199</td>\n",
       "      <td>50.0</td>\n",
       "      <td>2008-08-01T19:36:46Z</td>\n",
       "      <td>180</td>\n",
       "      <td>1</td>\n",
       "      <td>&lt;p&gt;I've read somewhere the human eye can't dis...</td>\n",
       "    </tr>\n",
       "    <tr>\n",
       "      <th>3</th>\n",
       "      <td>269</td>\n",
       "      <td>91.0</td>\n",
       "      <td>2008-08-01T23:49:57Z</td>\n",
       "      <td>260</td>\n",
       "      <td>4</td>\n",
       "      <td>&lt;p&gt;Yes, I thought about that, but I soon figur...</td>\n",
       "    </tr>\n",
       "    <tr>\n",
       "      <th>4</th>\n",
       "      <td>307</td>\n",
       "      <td>49.0</td>\n",
       "      <td>2008-08-02T01:49:46Z</td>\n",
       "      <td>260</td>\n",
       "      <td>28</td>\n",
       "      <td>&lt;p&gt;&lt;a href=\"http://www.codeproject.com/Article...</td>\n",
       "    </tr>\n",
       "  </tbody>\n",
       "</table>\n",
       "</div>"
      ],
      "text/plain": [
       "    Id  OwnerUserId          CreationDate  ParentId  Score  \\\n",
       "0   92         61.0  2008-08-01T14:45:37Z        90     13   \n",
       "1  124         26.0  2008-08-01T16:09:47Z        80     12   \n",
       "2  199         50.0  2008-08-01T19:36:46Z       180      1   \n",
       "3  269         91.0  2008-08-01T23:49:57Z       260      4   \n",
       "4  307         49.0  2008-08-02T01:49:46Z       260     28   \n",
       "\n",
       "                                                Body  \n",
       "0  <p><a href=\"http://svnbook.red-bean.com/\">Vers...  \n",
       "1  <p>I wound up using this. It is a kind of a ha...  \n",
       "2  <p>I've read somewhere the human eye can't dis...  \n",
       "3  <p>Yes, I thought about that, but I soon figur...  \n",
       "4  <p><a href=\"http://www.codeproject.com/Article...  "
      ]
     },
     "execution_count": 3,
     "metadata": {},
     "output_type": "execute_result"
    }
   ],
   "source": [
    "print(answers_data.shape)\n",
    "answers_data.head()"
   ]
  },
  {
   "cell_type": "code",
   "execution_count": 4,
   "metadata": {
    "execution": {
     "iopub.execute_input": "2021-09-13T00:29:05.198686Z",
     "iopub.status.busy": "2021-09-13T00:29:05.198259Z",
     "iopub.status.idle": "2021-09-13T00:29:05.218372Z",
     "shell.execute_reply": "2021-09-13T00:29:05.216911Z",
     "shell.execute_reply.started": "2021-09-13T00:29:05.198648Z"
    },
    "trusted": true
   },
   "outputs": [
    {
     "name": "stdout",
     "output_type": "stream",
     "text": [
      "(1264216, 7)\n"
     ]
    },
    {
     "data": {
      "text/html": [
       "<div>\n",
       "<style scoped>\n",
       "    .dataframe tbody tr th:only-of-type {\n",
       "        vertical-align: middle;\n",
       "    }\n",
       "\n",
       "    .dataframe tbody tr th {\n",
       "        vertical-align: top;\n",
       "    }\n",
       "\n",
       "    .dataframe thead th {\n",
       "        text-align: right;\n",
       "    }\n",
       "</style>\n",
       "<table border=\"1\" class=\"dataframe\">\n",
       "  <thead>\n",
       "    <tr style=\"text-align: right;\">\n",
       "      <th></th>\n",
       "      <th>Id</th>\n",
       "      <th>OwnerUserId</th>\n",
       "      <th>CreationDate</th>\n",
       "      <th>ClosedDate</th>\n",
       "      <th>Score</th>\n",
       "      <th>Title</th>\n",
       "      <th>Body</th>\n",
       "    </tr>\n",
       "  </thead>\n",
       "  <tbody>\n",
       "    <tr>\n",
       "      <th>0</th>\n",
       "      <td>80</td>\n",
       "      <td>26.0</td>\n",
       "      <td>2008-08-01T13:57:07Z</td>\n",
       "      <td>NaN</td>\n",
       "      <td>26</td>\n",
       "      <td>SQLStatement.execute() - multiple queries in o...</td>\n",
       "      <td>&lt;p&gt;I've written a database generation script i...</td>\n",
       "    </tr>\n",
       "    <tr>\n",
       "      <th>1</th>\n",
       "      <td>90</td>\n",
       "      <td>58.0</td>\n",
       "      <td>2008-08-01T14:41:24Z</td>\n",
       "      <td>2012-12-26T03:45:49Z</td>\n",
       "      <td>144</td>\n",
       "      <td>Good branching and merging tutorials for Torto...</td>\n",
       "      <td>&lt;p&gt;Are there any really good tutorials explain...</td>\n",
       "    </tr>\n",
       "    <tr>\n",
       "      <th>2</th>\n",
       "      <td>120</td>\n",
       "      <td>83.0</td>\n",
       "      <td>2008-08-01T15:50:08Z</td>\n",
       "      <td>NaN</td>\n",
       "      <td>21</td>\n",
       "      <td>ASP.NET Site Maps</td>\n",
       "      <td>&lt;p&gt;Has anyone got experience creating &lt;strong&gt;...</td>\n",
       "    </tr>\n",
       "    <tr>\n",
       "      <th>3</th>\n",
       "      <td>180</td>\n",
       "      <td>2089740.0</td>\n",
       "      <td>2008-08-01T18:42:19Z</td>\n",
       "      <td>NaN</td>\n",
       "      <td>53</td>\n",
       "      <td>Function for creating color wheels</td>\n",
       "      <td>&lt;p&gt;This is something I've pseudo-solved many t...</td>\n",
       "    </tr>\n",
       "    <tr>\n",
       "      <th>4</th>\n",
       "      <td>260</td>\n",
       "      <td>91.0</td>\n",
       "      <td>2008-08-01T23:22:08Z</td>\n",
       "      <td>NaN</td>\n",
       "      <td>49</td>\n",
       "      <td>Adding scripting functionality to .NET applica...</td>\n",
       "      <td>&lt;p&gt;I have a little game written in C#. It uses...</td>\n",
       "    </tr>\n",
       "  </tbody>\n",
       "</table>\n",
       "</div>"
      ],
      "text/plain": [
       "    Id  OwnerUserId          CreationDate            ClosedDate  Score  \\\n",
       "0   80         26.0  2008-08-01T13:57:07Z                   NaN     26   \n",
       "1   90         58.0  2008-08-01T14:41:24Z  2012-12-26T03:45:49Z    144   \n",
       "2  120         83.0  2008-08-01T15:50:08Z                   NaN     21   \n",
       "3  180    2089740.0  2008-08-01T18:42:19Z                   NaN     53   \n",
       "4  260         91.0  2008-08-01T23:22:08Z                   NaN     49   \n",
       "\n",
       "                                               Title  \\\n",
       "0  SQLStatement.execute() - multiple queries in o...   \n",
       "1  Good branching and merging tutorials for Torto...   \n",
       "2                                  ASP.NET Site Maps   \n",
       "3                 Function for creating color wheels   \n",
       "4  Adding scripting functionality to .NET applica...   \n",
       "\n",
       "                                                Body  \n",
       "0  <p>I've written a database generation script i...  \n",
       "1  <p>Are there any really good tutorials explain...  \n",
       "2  <p>Has anyone got experience creating <strong>...  \n",
       "3  <p>This is something I've pseudo-solved many t...  \n",
       "4  <p>I have a little game written in C#. It uses...  "
      ]
     },
     "execution_count": 4,
     "metadata": {},
     "output_type": "execute_result"
    }
   ],
   "source": [
    "print(questions_data.shape)\n",
    "questions_data.head()"
   ]
  },
  {
   "cell_type": "code",
   "execution_count": 5,
   "metadata": {
    "execution": {
     "iopub.execute_input": "2021-09-13T00:29:24.149451Z",
     "iopub.status.busy": "2021-09-13T00:29:24.148992Z",
     "iopub.status.idle": "2021-09-13T00:29:24.163081Z",
     "shell.execute_reply": "2021-09-13T00:29:24.161727Z",
     "shell.execute_reply.started": "2021-09-13T00:29:24.14941Z"
    },
    "trusted": true
   },
   "outputs": [
    {
     "name": "stdout",
     "output_type": "stream",
     "text": [
      "(3750994, 2)\n"
     ]
    },
    {
     "data": {
      "text/html": [
       "<div>\n",
       "<style scoped>\n",
       "    .dataframe tbody tr th:only-of-type {\n",
       "        vertical-align: middle;\n",
       "    }\n",
       "\n",
       "    .dataframe tbody tr th {\n",
       "        vertical-align: top;\n",
       "    }\n",
       "\n",
       "    .dataframe thead th {\n",
       "        text-align: right;\n",
       "    }\n",
       "</style>\n",
       "<table border=\"1\" class=\"dataframe\">\n",
       "  <thead>\n",
       "    <tr style=\"text-align: right;\">\n",
       "      <th></th>\n",
       "      <th>Id</th>\n",
       "      <th>Tag</th>\n",
       "    </tr>\n",
       "  </thead>\n",
       "  <tbody>\n",
       "    <tr>\n",
       "      <th>0</th>\n",
       "      <td>80</td>\n",
       "      <td>flex</td>\n",
       "    </tr>\n",
       "    <tr>\n",
       "      <th>1</th>\n",
       "      <td>80</td>\n",
       "      <td>actionscript-3</td>\n",
       "    </tr>\n",
       "    <tr>\n",
       "      <th>2</th>\n",
       "      <td>80</td>\n",
       "      <td>air</td>\n",
       "    </tr>\n",
       "    <tr>\n",
       "      <th>3</th>\n",
       "      <td>90</td>\n",
       "      <td>svn</td>\n",
       "    </tr>\n",
       "    <tr>\n",
       "      <th>4</th>\n",
       "      <td>90</td>\n",
       "      <td>tortoisesvn</td>\n",
       "    </tr>\n",
       "  </tbody>\n",
       "</table>\n",
       "</div>"
      ],
      "text/plain": [
       "   Id             Tag\n",
       "0  80            flex\n",
       "1  80  actionscript-3\n",
       "2  80             air\n",
       "3  90             svn\n",
       "4  90     tortoisesvn"
      ]
     },
     "execution_count": 5,
     "metadata": {},
     "output_type": "execute_result"
    }
   ],
   "source": [
    "print(tags_data.shape)\n",
    "tags_data.head()"
   ]
  },
  {
   "cell_type": "code",
   "execution_count": 6,
   "metadata": {
    "execution": {
     "iopub.execute_input": "2021-09-13T00:29:27.378216Z",
     "iopub.status.busy": "2021-09-13T00:29:27.37777Z",
     "iopub.status.idle": "2021-09-13T00:29:27.497602Z",
     "shell.execute_reply": "2021-09-13T00:29:27.496506Z",
     "shell.execute_reply.started": "2021-09-13T00:29:27.378179Z"
    },
    "trusted": true
   },
   "outputs": [
    {
     "data": {
      "text/plain": [
       "1102568"
      ]
     },
     "execution_count": 6,
     "metadata": {},
     "output_type": "execute_result"
    }
   ],
   "source": [
    "answers_data.ParentId.unique().shape[0]"
   ]
  },
  {
   "cell_type": "code",
   "execution_count": 7,
   "metadata": {
    "execution": {
     "iopub.execute_input": "2021-09-13T00:29:28.459121Z",
     "iopub.status.busy": "2021-09-13T00:29:28.458644Z",
     "iopub.status.idle": "2021-09-13T00:29:28.562233Z",
     "shell.execute_reply": "2021-09-13T00:29:28.561004Z",
     "shell.execute_reply.started": "2021-09-13T00:29:28.459079Z"
    },
    "trusted": true
   },
   "outputs": [
    {
     "data": {
      "text/plain": [
       "1264216"
      ]
     },
     "execution_count": 7,
     "metadata": {},
     "output_type": "execute_result"
    }
   ],
   "source": [
    "questions_data.Id.unique().shape[0]"
   ]
  },
  {
   "cell_type": "code",
   "execution_count": 8,
   "metadata": {
    "execution": {
     "iopub.execute_input": "2021-09-13T00:29:30.861606Z",
     "iopub.status.busy": "2021-09-13T00:29:30.860979Z",
     "iopub.status.idle": "2021-09-13T00:29:31.031146Z",
     "shell.execute_reply": "2021-09-13T00:29:31.029957Z",
     "shell.execute_reply.started": "2021-09-13T00:29:30.86154Z"
    },
    "trusted": true
   },
   "outputs": [
    {
     "data": {
      "text/plain": [
       "1264216"
      ]
     },
     "execution_count": 8,
     "metadata": {},
     "output_type": "execute_result"
    }
   ],
   "source": [
    "tags_data.Id.unique().shape[0]"
   ]
  },
  {
   "cell_type": "code",
   "execution_count": 9,
   "metadata": {
    "execution": {
     "iopub.execute_input": "2021-09-13T00:29:32.130201Z",
     "iopub.status.busy": "2021-09-13T00:29:32.129751Z",
     "iopub.status.idle": "2021-09-13T00:29:32.739822Z",
     "shell.execute_reply": "2021-09-13T00:29:32.738579Z",
     "shell.execute_reply.started": "2021-09-13T00:29:32.130158Z"
    },
    "trusted": true
   },
   "outputs": [
    {
     "data": {
      "text/plain": [
       "37035"
      ]
     },
     "execution_count": 9,
     "metadata": {},
     "output_type": "execute_result"
    }
   ],
   "source": [
    "len(tags_data.Tag.unique())"
   ]
  },
  {
   "cell_type": "code",
   "execution_count": 10,
   "metadata": {
    "execution": {
     "iopub.execute_input": "2021-09-13T00:29:34.938603Z",
     "iopub.status.busy": "2021-09-13T00:29:34.938187Z",
     "iopub.status.idle": "2021-09-13T00:29:35.143256Z",
     "shell.execute_reply": "2021-09-13T00:29:35.142047Z",
     "shell.execute_reply.started": "2021-09-13T00:29:34.938567Z"
    },
    "trusted": true
   },
   "outputs": [
    {
     "data": {
      "text/plain": [
       "0"
      ]
     },
     "execution_count": 10,
     "metadata": {},
     "output_type": "execute_result"
    }
   ],
   "source": [
    "a = tags_data.Id.unique()-questions_data.Id.unique()\n",
    "np.count_nonzero(a)"
   ]
  },
  {
   "cell_type": "code",
   "execution_count": 11,
   "metadata": {
    "execution": {
     "iopub.execute_input": "2021-09-13T00:29:55.219103Z",
     "iopub.status.busy": "2021-09-13T00:29:55.218586Z",
     "iopub.status.idle": "2021-09-13T00:29:55.626162Z",
     "shell.execute_reply": "2021-09-13T00:29:55.624939Z",
     "shell.execute_reply.started": "2021-09-13T00:29:55.219051Z"
    },
    "trusted": true
   },
   "outputs": [
    {
     "data": {
      "text/plain": [
       "161648"
      ]
     },
     "execution_count": 11,
     "metadata": {},
     "output_type": "execute_result"
    }
   ],
   "source": [
    "b = questions_data.Id.unique()\n",
    "c = answers_data.ParentId.unique()\n",
    "questions_ids_with_no_answer = b[~np.in1d(b,c)]\n",
    "questions_ids_with_no_answer.shape[0]"
   ]
  },
  {
   "cell_type": "code",
   "execution_count": 12,
   "metadata": {
    "execution": {
     "iopub.execute_input": "2021-09-13T00:30:03.83878Z",
     "iopub.status.busy": "2021-09-13T00:30:03.838351Z",
     "iopub.status.idle": "2021-09-13T00:30:04.038386Z",
     "shell.execute_reply": "2021-09-13T00:30:04.037081Z",
     "shell.execute_reply.started": "2021-09-13T00:30:03.838738Z"
    },
    "trusted": true
   },
   "outputs": [],
   "source": [
    "mask_questions = questions_data[\"Id\"].isin(questions_ids_with_no_answer)\n",
    "questions_data = questions_data.loc[~mask_questions]"
   ]
  },
  {
   "cell_type": "code",
   "execution_count": 13,
   "metadata": {
    "execution": {
     "iopub.execute_input": "2021-09-13T00:30:06.161092Z",
     "iopub.status.busy": "2021-09-13T00:30:06.160673Z",
     "iopub.status.idle": "2021-09-13T00:30:06.406135Z",
     "shell.execute_reply": "2021-09-13T00:30:06.405097Z",
     "shell.execute_reply.started": "2021-09-13T00:30:06.161047Z"
    },
    "trusted": true
   },
   "outputs": [],
   "source": [
    "mask_tags = tags_data[\"Id\"].isin(questions_ids_with_no_answer)\n",
    "tags_data = tags_data.loc[~mask_tags]"
   ]
  },
  {
   "cell_type": "code",
   "execution_count": 14,
   "metadata": {
    "execution": {
     "iopub.execute_input": "2021-09-13T00:30:07.081593Z",
     "iopub.status.busy": "2021-09-13T00:30:07.081217Z",
     "iopub.status.idle": "2021-09-13T00:30:07.526157Z",
     "shell.execute_reply": "2021-09-13T00:30:07.52512Z",
     "shell.execute_reply.started": "2021-09-13T00:30:07.081556Z"
    },
    "trusted": true
   },
   "outputs": [
    {
     "data": {
      "text/plain": [
       "Id                    0\n",
       "OwnerUserId       13924\n",
       "CreationDate          0\n",
       "ClosedDate      1055196\n",
       "Score                 0\n",
       "Title                 0\n",
       "Body                  0\n",
       "dtype: int64"
      ]
     },
     "execution_count": 14,
     "metadata": {},
     "output_type": "execute_result"
    }
   ],
   "source": [
    "questions_data.isnull().sum()"
   ]
  },
  {
   "cell_type": "code",
   "execution_count": 15,
   "metadata": {
    "execution": {
     "iopub.execute_input": "2021-09-13T00:30:08.437368Z",
     "iopub.status.busy": "2021-09-13T00:30:08.437029Z",
     "iopub.status.idle": "2021-09-13T00:30:08.93912Z",
     "shell.execute_reply": "2021-09-13T00:30:08.938251Z",
     "shell.execute_reply.started": "2021-09-13T00:30:08.437338Z"
    },
    "trusted": true
   },
   "outputs": [
    {
     "data": {
      "text/plain": [
       "Id                  0\n",
       "OwnerUserId     13200\n",
       "CreationDate        0\n",
       "ParentId            0\n",
       "Score               0\n",
       "Body                0\n",
       "dtype: int64"
      ]
     },
     "execution_count": 15,
     "metadata": {},
     "output_type": "execute_result"
    }
   ],
   "source": [
    "answers_data.isnull().sum()"
   ]
  },
  {
   "cell_type": "code",
   "execution_count": 16,
   "metadata": {
    "execution": {
     "iopub.execute_input": "2021-09-13T00:30:13.657998Z",
     "iopub.status.busy": "2021-09-13T00:30:13.657546Z",
     "iopub.status.idle": "2021-09-13T00:30:14.005057Z",
     "shell.execute_reply": "2021-09-13T00:30:14.004024Z",
     "shell.execute_reply.started": "2021-09-13T00:30:13.657955Z"
    },
    "trusted": true
   },
   "outputs": [
    {
     "data": {
      "text/plain": [
       "Id        0\n",
       "Tag    1029\n",
       "dtype: int64"
      ]
     },
     "execution_count": 16,
     "metadata": {},
     "output_type": "execute_result"
    }
   ],
   "source": [
    "tags_data.isnull().sum()"
   ]
  },
  {
   "cell_type": "code",
   "execution_count": 17,
   "metadata": {
    "execution": {
     "iopub.execute_input": "2021-09-13T00:30:24.838184Z",
     "iopub.status.busy": "2021-09-13T00:30:24.837741Z",
     "iopub.status.idle": "2021-09-13T00:30:25.345441Z",
     "shell.execute_reply": "2021-09-13T00:30:25.344501Z",
     "shell.execute_reply.started": "2021-09-13T00:30:24.838146Z"
    },
    "trusted": true
   },
   "outputs": [],
   "source": [
    "tags_data = tags_data.dropna(axis=0)"
   ]
  },
  {
   "cell_type": "code",
   "execution_count": 18,
   "metadata": {
    "execution": {
     "iopub.execute_input": "2021-09-13T00:30:30.998585Z",
     "iopub.status.busy": "2021-09-13T00:30:30.997904Z",
     "iopub.status.idle": "2021-09-13T00:30:31.00645Z",
     "shell.execute_reply": "2021-09-13T00:30:31.004978Z",
     "shell.execute_reply.started": "2021-09-13T00:30:30.998522Z"
    },
    "trusted": true
   },
   "outputs": [
    {
     "name": "stdout",
     "output_type": "stream",
     "text": [
      "(1102568, 7)\n",
      "(2014516, 6)\n",
      "(3256145, 2)\n"
     ]
    }
   ],
   "source": [
    "print(questions_data.shape)\n",
    "print(answers_data.shape)\n",
    "print(tags_data.shape)"
   ]
  },
  {
   "cell_type": "markdown",
   "metadata": {},
   "source": [
    "# 2. Data Visualisation"
   ]
  },
  {
   "cell_type": "markdown",
   "metadata": {
    "execution": {
     "iopub.execute_input": "2021-09-03T15:55:57.932888Z",
     "iopub.status.busy": "2021-09-03T15:55:57.93248Z",
     "iopub.status.idle": "2021-09-03T15:55:57.937389Z",
     "shell.execute_reply": "2021-09-03T15:55:57.936279Z",
     "shell.execute_reply.started": "2021-09-03T15:55:57.932855Z"
    }
   },
   "source": [
    "## 2.1. Tags data grouped by tags name"
   ]
  },
  {
   "cell_type": "code",
   "execution_count": 19,
   "metadata": {
    "execution": {
     "iopub.execute_input": "2021-09-06T11:10:49.383277Z",
     "iopub.status.busy": "2021-09-06T11:10:49.382755Z",
     "iopub.status.idle": "2021-09-06T11:10:50.175519Z",
     "shell.execute_reply": "2021-09-06T11:10:50.174747Z",
     "shell.execute_reply.started": "2021-09-06T11:10:49.383224Z"
    },
    "trusted": true
   },
   "outputs": [],
   "source": [
    "import matplotlib.pyplot as plt\n",
    "%matplotlib inline\n",
    "import seaborn as sns"
   ]
  },
  {
   "cell_type": "code",
   "execution_count": 20,
   "metadata": {
    "execution": {
     "iopub.execute_input": "2021-09-06T11:10:50.177446Z",
     "iopub.status.busy": "2021-09-06T11:10:50.176866Z",
     "iopub.status.idle": "2021-09-06T11:10:51.070213Z",
     "shell.execute_reply": "2021-09-06T11:10:51.069411Z",
     "shell.execute_reply.started": "2021-09-06T11:10:50.177399Z"
    },
    "trusted": true
   },
   "outputs": [],
   "source": [
    "tags=tags_data.Tag.value_counts().rename_axis('Tag').reset_index(name='counts')"
   ]
  },
  {
   "cell_type": "code",
   "execution_count": 21,
   "metadata": {
    "execution": {
     "iopub.execute_input": "2021-09-06T11:10:51.072052Z",
     "iopub.status.busy": "2021-09-06T11:10:51.071465Z",
     "iopub.status.idle": "2021-09-06T11:10:51.083405Z",
     "shell.execute_reply": "2021-09-06T11:10:51.082342Z",
     "shell.execute_reply.started": "2021-09-06T11:10:51.071996Z"
    },
    "trusted": true
   },
   "outputs": [
    {
     "data": {
      "text/html": [
       "<div>\n",
       "<style scoped>\n",
       "    .dataframe tbody tr th:only-of-type {\n",
       "        vertical-align: middle;\n",
       "    }\n",
       "\n",
       "    .dataframe tbody tr th {\n",
       "        vertical-align: top;\n",
       "    }\n",
       "\n",
       "    .dataframe thead th {\n",
       "        text-align: right;\n",
       "    }\n",
       "</style>\n",
       "<table border=\"1\" class=\"dataframe\">\n",
       "  <thead>\n",
       "    <tr style=\"text-align: right;\">\n",
       "      <th></th>\n",
       "      <th>Tag</th>\n",
       "      <th>counts</th>\n",
       "    </tr>\n",
       "  </thead>\n",
       "  <tbody>\n",
       "    <tr>\n",
       "      <th>0</th>\n",
       "      <td>javascript</td>\n",
       "      <td>108637</td>\n",
       "    </tr>\n",
       "    <tr>\n",
       "      <th>1</th>\n",
       "      <td>java</td>\n",
       "      <td>100781</td>\n",
       "    </tr>\n",
       "    <tr>\n",
       "      <th>2</th>\n",
       "      <td>c#</td>\n",
       "      <td>90035</td>\n",
       "    </tr>\n",
       "    <tr>\n",
       "      <th>3</th>\n",
       "      <td>php</td>\n",
       "      <td>87354</td>\n",
       "    </tr>\n",
       "    <tr>\n",
       "      <th>4</th>\n",
       "      <td>android</td>\n",
       "      <td>74596</td>\n",
       "    </tr>\n",
       "  </tbody>\n",
       "</table>\n",
       "</div>"
      ],
      "text/plain": [
       "          Tag  counts\n",
       "0  javascript  108637\n",
       "1        java  100781\n",
       "2          c#   90035\n",
       "3         php   87354\n",
       "4     android   74596"
      ]
     },
     "execution_count": 21,
     "metadata": {},
     "output_type": "execute_result"
    }
   ],
   "source": [
    "tags.head()"
   ]
  },
  {
   "cell_type": "code",
   "execution_count": 22,
   "metadata": {
    "execution": {
     "iopub.execute_input": "2021-09-06T11:10:51.085009Z",
     "iopub.status.busy": "2021-09-06T11:10:51.084715Z",
     "iopub.status.idle": "2021-09-06T11:10:51.09142Z",
     "shell.execute_reply": "2021-09-06T11:10:51.090437Z",
     "shell.execute_reply.started": "2021-09-06T11:10:51.08498Z"
    },
    "trusted": true
   },
   "outputs": [],
   "source": [
    "tags = tags.loc[tags['counts']>100]"
   ]
  },
  {
   "cell_type": "code",
   "execution_count": 23,
   "metadata": {
    "execution": {
     "iopub.execute_input": "2021-09-06T11:10:51.093024Z",
     "iopub.status.busy": "2021-09-06T11:10:51.092714Z",
     "iopub.status.idle": "2021-09-06T11:10:51.107665Z",
     "shell.execute_reply": "2021-09-06T11:10:51.106739Z",
     "shell.execute_reply.started": "2021-09-06T11:10:51.092994Z"
    },
    "trusted": true
   },
   "outputs": [
    {
     "name": "stdout",
     "output_type": "stream",
     "text": [
      "(3028, 2)\n"
     ]
    },
    {
     "data": {
      "text/html": [
       "<div>\n",
       "<style scoped>\n",
       "    .dataframe tbody tr th:only-of-type {\n",
       "        vertical-align: middle;\n",
       "    }\n",
       "\n",
       "    .dataframe tbody tr th {\n",
       "        vertical-align: top;\n",
       "    }\n",
       "\n",
       "    .dataframe thead th {\n",
       "        text-align: right;\n",
       "    }\n",
       "</style>\n",
       "<table border=\"1\" class=\"dataframe\">\n",
       "  <thead>\n",
       "    <tr style=\"text-align: right;\">\n",
       "      <th></th>\n",
       "      <th>Tag</th>\n",
       "      <th>counts</th>\n",
       "    </tr>\n",
       "  </thead>\n",
       "  <tbody>\n",
       "    <tr>\n",
       "      <th>0</th>\n",
       "      <td>javascript</td>\n",
       "      <td>108637</td>\n",
       "    </tr>\n",
       "    <tr>\n",
       "      <th>1</th>\n",
       "      <td>java</td>\n",
       "      <td>100781</td>\n",
       "    </tr>\n",
       "    <tr>\n",
       "      <th>2</th>\n",
       "      <td>c#</td>\n",
       "      <td>90035</td>\n",
       "    </tr>\n",
       "    <tr>\n",
       "      <th>3</th>\n",
       "      <td>php</td>\n",
       "      <td>87354</td>\n",
       "    </tr>\n",
       "    <tr>\n",
       "      <th>4</th>\n",
       "      <td>android</td>\n",
       "      <td>74596</td>\n",
       "    </tr>\n",
       "  </tbody>\n",
       "</table>\n",
       "</div>"
      ],
      "text/plain": [
       "          Tag  counts\n",
       "0  javascript  108637\n",
       "1        java  100781\n",
       "2          c#   90035\n",
       "3         php   87354\n",
       "4     android   74596"
      ]
     },
     "execution_count": 23,
     "metadata": {},
     "output_type": "execute_result"
    }
   ],
   "source": [
    "print(tags.shape)\n",
    "tags.head()"
   ]
  },
  {
   "cell_type": "code",
   "execution_count": 24,
   "metadata": {
    "execution": {
     "iopub.execute_input": "2021-09-06T11:10:51.109501Z",
     "iopub.status.busy": "2021-09-06T11:10:51.109022Z",
     "iopub.status.idle": "2021-09-06T11:10:52.195407Z",
     "shell.execute_reply": "2021-09-06T11:10:52.194649Z",
     "shell.execute_reply.started": "2021-09-06T11:10:51.109468Z"
    },
    "trusted": true
   },
   "outputs": [
    {
     "data": {
      "text/plain": [
       "Text(0, 0.5, 'Number of questions')"
      ]
     },
     "execution_count": 24,
     "metadata": {},
     "output_type": "execute_result"
    },
    {
     "data": {
      "image/png": "[encoded data removed]",
      "text/plain": [
       "<Figure size 1152x432 with 1 Axes>"
      ]
     },
     "metadata": {
      "needs_background": "light"
     },
     "output_type": "display_data"
    }
   ],
   "source": [
    "plt.figure(figsize=(16,6))\n",
    "\n",
    "plt.title(\"Questions Distribution According To Tags\")\n",
    "sns.barplot(x=tags.loc[:50].Tag, y=tags[:50].counts)\n",
    "\n",
    "plt.xticks(rotation=90)\n",
    "plt.ylabel(\"Number of questions\")"
   ]
  },
  {
   "cell_type": "code",
   "execution_count": 25,
   "metadata": {
    "execution": {
     "iopub.execute_input": "2021-09-13T00:31:33.119161Z",
     "iopub.status.busy": "2021-09-13T00:31:33.118746Z",
     "iopub.status.idle": "2021-09-13T00:31:33.19132Z",
     "shell.execute_reply": "2021-09-13T00:31:33.189723Z",
     "shell.execute_reply.started": "2021-09-13T00:31:33.119125Z"
    },
    "trusted": true
   },
   "outputs": [
    {
     "name": "stdout",
     "output_type": "stream",
     "text": [
      "<class 'pandas.core.frame.DataFrame'>\n",
      "Int64Index: 3028 entries, 0 to 3027\n",
      "Data columns (total 2 columns):\n",
      " #   Column  Non-Null Count  Dtype \n",
      "---  ------  --------------  ----- \n",
      " 0   Tag     3028 non-null   object\n",
      " 1   counts  3028 non-null   int64 \n",
      "dtypes: int64(1), object(1)\n",
      "memory usage: 135.5+ KB\n"
     ]
    }
   ],
   "source": [
    "tags.info()"
   ]
  },
  {
   "cell_type": "code",
   "execution_count": 26,
   "metadata": {
    "execution": {
     "iopub.execute_input": "2021-09-06T11:10:52.215171Z",
     "iopub.status.busy": "2021-09-06T11:10:52.214928Z",
     "iopub.status.idle": "2021-09-06T11:10:52.232303Z",
     "shell.execute_reply": "2021-09-06T11:10:52.2316Z",
     "shell.execute_reply.started": "2021-09-06T11:10:52.215146Z"
    },
    "trusted": true
   },
   "outputs": [
    {
     "data": {
      "text/html": [
       "<div>\n",
       "<style scoped>\n",
       "    .dataframe tbody tr th:only-of-type {\n",
       "        vertical-align: middle;\n",
       "    }\n",
       "\n",
       "    .dataframe tbody tr th {\n",
       "        vertical-align: top;\n",
       "    }\n",
       "\n",
       "    .dataframe thead th {\n",
       "        text-align: right;\n",
       "    }\n",
       "</style>\n",
       "<table border=\"1\" class=\"dataframe\">\n",
       "  <thead>\n",
       "    <tr style=\"text-align: right;\">\n",
       "      <th></th>\n",
       "      <th>counts</th>\n",
       "    </tr>\n",
       "  </thead>\n",
       "  <tbody>\n",
       "    <tr>\n",
       "      <th>count</th>\n",
       "      <td>3028.00000</td>\n",
       "    </tr>\n",
       "    <tr>\n",
       "      <th>mean</th>\n",
       "      <td>945.03996</td>\n",
       "    </tr>\n",
       "    <tr>\n",
       "      <th>std</th>\n",
       "      <td>4768.87636</td>\n",
       "    </tr>\n",
       "    <tr>\n",
       "      <th>min</th>\n",
       "      <td>101.00000</td>\n",
       "    </tr>\n",
       "    <tr>\n",
       "      <th>25%</th>\n",
       "      <td>144.00000</td>\n",
       "    </tr>\n",
       "    <tr>\n",
       "      <th>50%</th>\n",
       "      <td>237.50000</td>\n",
       "    </tr>\n",
       "    <tr>\n",
       "      <th>75%</th>\n",
       "      <td>525.25000</td>\n",
       "    </tr>\n",
       "    <tr>\n",
       "      <th>max</th>\n",
       "      <td>108637.00000</td>\n",
       "    </tr>\n",
       "  </tbody>\n",
       "</table>\n",
       "</div>"
      ],
      "text/plain": [
       "             counts\n",
       "count    3028.00000\n",
       "mean      945.03996\n",
       "std      4768.87636\n",
       "min       101.00000\n",
       "25%       144.00000\n",
       "50%       237.50000\n",
       "75%       525.25000\n",
       "max    108637.00000"
      ]
     },
     "execution_count": 26,
     "metadata": {},
     "output_type": "execute_result"
    }
   ],
   "source": [
    "tags.describe()"
   ]
  },
  {
   "cell_type": "markdown",
   "metadata": {},
   "source": [
    "## 2.2. Tags data grouped by questions"
   ]
  },
  {
   "cell_type": "code",
   "execution_count": 27,
   "metadata": {
    "execution": {
     "iopub.execute_input": "2021-09-13T00:30:50.91067Z",
     "iopub.status.busy": "2021-09-13T00:30:50.910104Z",
     "iopub.status.idle": "2021-09-13T00:30:51.092008Z",
     "shell.execute_reply": "2021-09-13T00:30:51.091225Z",
     "shell.execute_reply.started": "2021-09-13T00:30:50.910622Z"
    },
    "trusted": true
   },
   "outputs": [],
   "source": [
    "questions_tags = tags_data.Id.value_counts().rename_axis('Id').reset_index(name='counts')"
   ]
  },
  {
   "cell_type": "code",
   "execution_count": 28,
   "metadata": {
    "execution": {
     "iopub.execute_input": "2021-09-13T00:30:52.065389Z",
     "iopub.status.busy": "2021-09-13T00:30:52.06478Z",
     "iopub.status.idle": "2021-09-13T00:30:52.071149Z",
     "shell.execute_reply": "2021-09-13T00:30:52.070352Z",
     "shell.execute_reply.started": "2021-09-13T00:30:52.065351Z"
    },
    "trusted": true
   },
   "outputs": [
    {
     "data": {
      "text/plain": [
       "(1102566, 2)"
      ]
     },
     "execution_count": 28,
     "metadata": {},
     "output_type": "execute_result"
    }
   ],
   "source": [
    "questions_tags.shape"
   ]
  },
  {
   "cell_type": "code",
   "execution_count": 29,
   "metadata": {
    "execution": {
     "iopub.execute_input": "2021-09-13T00:30:53.446579Z",
     "iopub.status.busy": "2021-09-13T00:30:53.445932Z",
     "iopub.status.idle": "2021-09-13T00:30:53.468277Z",
     "shell.execute_reply": "2021-09-13T00:30:53.4675Z",
     "shell.execute_reply.started": "2021-09-13T00:30:53.446538Z"
    },
    "trusted": true
   },
   "outputs": [
    {
     "name": "stdout",
     "output_type": "stream",
     "text": [
      "<class 'pandas.core.frame.DataFrame'>\n",
      "RangeIndex: 1102566 entries, 0 to 1102565\n",
      "Data columns (total 2 columns):\n",
      " #   Column  Non-Null Count    Dtype\n",
      "---  ------  --------------    -----\n",
      " 0   Id      1102566 non-null  int64\n",
      " 1   counts  1102566 non-null  int64\n",
      "dtypes: int64(2)\n",
      "memory usage: 16.8 MB\n"
     ]
    }
   ],
   "source": [
    "questions_tags.info()"
   ]
  },
  {
   "cell_type": "code",
   "execution_count": 30,
   "metadata": {
    "execution": {
     "iopub.execute_input": "2021-09-13T00:31:01.258979Z",
     "iopub.status.busy": "2021-09-13T00:31:01.258367Z",
     "iopub.status.idle": "2021-09-13T00:31:01.380983Z",
     "shell.execute_reply": "2021-09-13T00:31:01.379816Z",
     "shell.execute_reply.started": "2021-09-13T00:31:01.25892Z"
    },
    "trusted": true
   },
   "outputs": [
    {
     "data": {
      "text/html": [
       "<div>\n",
       "<style scoped>\n",
       "    .dataframe tbody tr th:only-of-type {\n",
       "        vertical-align: middle;\n",
       "    }\n",
       "\n",
       "    .dataframe tbody tr th {\n",
       "        vertical-align: top;\n",
       "    }\n",
       "\n",
       "    .dataframe thead th {\n",
       "        text-align: right;\n",
       "    }\n",
       "</style>\n",
       "<table border=\"1\" class=\"dataframe\">\n",
       "  <thead>\n",
       "    <tr style=\"text-align: right;\">\n",
       "      <th></th>\n",
       "      <th>Id</th>\n",
       "      <th>counts</th>\n",
       "    </tr>\n",
       "  </thead>\n",
       "  <tbody>\n",
       "    <tr>\n",
       "      <th>count</th>\n",
       "      <td>1.102566e+06</td>\n",
       "      <td>1.102566e+06</td>\n",
       "    </tr>\n",
       "    <tr>\n",
       "      <th>mean</th>\n",
       "      <td>2.022391e+07</td>\n",
       "      <td>2.953243e+00</td>\n",
       "    </tr>\n",
       "    <tr>\n",
       "      <th>std</th>\n",
       "      <td>1.137302e+07</td>\n",
       "      <td>1.204112e+00</td>\n",
       "    </tr>\n",
       "    <tr>\n",
       "      <th>min</th>\n",
       "      <td>8.000000e+01</td>\n",
       "      <td>1.000000e+00</td>\n",
       "    </tr>\n",
       "    <tr>\n",
       "      <th>25%</th>\n",
       "      <td>1.039486e+07</td>\n",
       "      <td>2.000000e+00</td>\n",
       "    </tr>\n",
       "    <tr>\n",
       "      <th>50%</th>\n",
       "      <td>2.015798e+07</td>\n",
       "      <td>3.000000e+00</td>\n",
       "    </tr>\n",
       "    <tr>\n",
       "      <th>75%</th>\n",
       "      <td>3.005732e+07</td>\n",
       "      <td>4.000000e+00</td>\n",
       "    </tr>\n",
       "    <tr>\n",
       "      <th>max</th>\n",
       "      <td>4.014319e+07</td>\n",
       "      <td>5.000000e+00</td>\n",
       "    </tr>\n",
       "  </tbody>\n",
       "</table>\n",
       "</div>"
      ],
      "text/plain": [
       "                 Id        counts\n",
       "count  1.102566e+06  1.102566e+06\n",
       "mean   2.022391e+07  2.953243e+00\n",
       "std    1.137302e+07  1.204112e+00\n",
       "min    8.000000e+01  1.000000e+00\n",
       "25%    1.039486e+07  2.000000e+00\n",
       "50%    2.015798e+07  3.000000e+00\n",
       "75%    3.005732e+07  4.000000e+00\n",
       "max    4.014319e+07  5.000000e+00"
      ]
     },
     "execution_count": 30,
     "metadata": {},
     "output_type": "execute_result"
    }
   ],
   "source": [
    "questions_tags.describe()"
   ]
  },
  {
   "cell_type": "code",
   "execution_count": 31,
   "metadata": {
    "execution": {
     "iopub.execute_input": "2021-09-13T00:31:07.178403Z",
     "iopub.status.busy": "2021-09-13T00:31:07.17779Z",
     "iopub.status.idle": "2021-09-13T00:31:07.189686Z",
     "shell.execute_reply": "2021-09-13T00:31:07.188601Z",
     "shell.execute_reply.started": "2021-09-13T00:31:07.178352Z"
    },
    "trusted": true
   },
   "outputs": [
    {
     "data": {
      "text/html": [
       "<div>\n",
       "<style scoped>\n",
       "    .dataframe tbody tr th:only-of-type {\n",
       "        vertical-align: middle;\n",
       "    }\n",
       "\n",
       "    .dataframe tbody tr th {\n",
       "        vertical-align: top;\n",
       "    }\n",
       "\n",
       "    .dataframe thead th {\n",
       "        text-align: right;\n",
       "    }\n",
       "</style>\n",
       "<table border=\"1\" class=\"dataframe\">\n",
       "  <thead>\n",
       "    <tr style=\"text-align: right;\">\n",
       "      <th></th>\n",
       "      <th>Id</th>\n",
       "      <th>counts</th>\n",
       "    </tr>\n",
       "  </thead>\n",
       "  <tbody>\n",
       "    <tr>\n",
       "      <th>0</th>\n",
       "      <td>14365520</td>\n",
       "      <td>5</td>\n",
       "    </tr>\n",
       "    <tr>\n",
       "      <th>1</th>\n",
       "      <td>35443910</td>\n",
       "      <td>5</td>\n",
       "    </tr>\n",
       "    <tr>\n",
       "      <th>2</th>\n",
       "      <td>27855420</td>\n",
       "      <td>5</td>\n",
       "    </tr>\n",
       "    <tr>\n",
       "      <th>3</th>\n",
       "      <td>35444130</td>\n",
       "      <td>5</td>\n",
       "    </tr>\n",
       "    <tr>\n",
       "      <th>4</th>\n",
       "      <td>7925050</td>\n",
       "      <td>5</td>\n",
       "    </tr>\n",
       "  </tbody>\n",
       "</table>\n",
       "</div>"
      ],
      "text/plain": [
       "         Id  counts\n",
       "0  14365520       5\n",
       "1  35443910       5\n",
       "2  27855420       5\n",
       "3  35444130       5\n",
       "4   7925050       5"
      ]
     },
     "execution_count": 31,
     "metadata": {},
     "output_type": "execute_result"
    }
   ],
   "source": [
    "questions_tags.head()"
   ]
  },
  {
   "cell_type": "code",
   "execution_count": 32,
   "metadata": {
    "execution": {
     "iopub.execute_input": "2021-09-06T11:10:52.549114Z",
     "iopub.status.busy": "2021-09-06T11:10:52.548701Z",
     "iopub.status.idle": "2021-09-06T11:10:53.767281Z",
     "shell.execute_reply": "2021-09-06T11:10:53.766007Z",
     "shell.execute_reply.started": "2021-09-06T11:10:52.549073Z"
    },
    "trusted": true
   },
   "outputs": [
    {
     "data": {
      "text/plain": [
       "Text(0, 0.5, 'Number of tags')"
      ]
     },
     "execution_count": 32,
     "metadata": {},
     "output_type": "execute_result"
    },
    {
     "data": {
      "image/png": "[encoded data removed]",
      "text/plain": [
       "<Figure size 1152x432 with 1 Axes>"
      ]
     },
     "metadata": {
      "needs_background": "light"
     },
     "output_type": "display_data"
    }
   ],
   "source": [
    "plt.figure(figsize=(16,6))\n",
    "\n",
    "plt.title(\"Tags Distribution According To Questions\")\n",
    "sns.barplot(x=questions_tags.loc[:50].Id, y=questions_tags[:50].counts)\n",
    "\n",
    "plt.xticks(rotation=90)\n",
    "plt.ylabel(\"Number of tags\")"
   ]
  },
  {
   "cell_type": "code",
   "execution_count": 33,
   "metadata": {
    "execution": {
     "iopub.execute_input": "2021-09-06T11:10:53.769541Z",
     "iopub.status.busy": "2021-09-06T11:10:53.769113Z",
     "iopub.status.idle": "2021-09-06T11:10:53.810944Z",
     "shell.execute_reply": "2021-09-06T11:10:53.810225Z",
     "shell.execute_reply.started": "2021-09-06T11:10:53.769487Z"
    },
    "trusted": true
   },
   "outputs": [
    {
     "name": "stdout",
     "output_type": "stream",
     "text": [
      "12.015607228955002 % of questions which means:  132480  questions have  1  tags\n",
      "26.140475944297215 % of questions which means:  288216  questions have  2  tags\n",
      "29.10202201047375 % of questions which means:  320869  questions have  3  tags\n",
      "19.987828393039507 % of questions which means:  220379  questions have  4  tags\n",
      "12.754066423234528 % of questions which means:  140622  questions have  5  tags\n"
     ]
    }
   ],
   "source": [
    "for i in range(5):\n",
    "    a = i+1\n",
    "    df = questions_tags.loc[questions_tags['counts']==a]\n",
    "    percent = (df.shape[0]/questions_tags.shape[0])*100\n",
    "    print(percent, \"% of questions which means: \", df.shape[0],\" questions have \",a, \" tags\")"
   ]
  },
  {
   "cell_type": "code",
   "execution_count": 34,
   "metadata": {
    "execution": {
     "iopub.execute_input": "2021-09-13T00:38:56.598138Z",
     "iopub.status.busy": "2021-09-13T00:38:56.59772Z",
     "iopub.status.idle": "2021-09-13T00:38:56.7767Z",
     "shell.execute_reply": "2021-09-13T00:38:56.775373Z",
     "shell.execute_reply.started": "2021-09-13T00:38:56.59809Z"
    },
    "trusted": true
   },
   "outputs": [],
   "source": [
    "questions_ids_with_one_tag = questions_tags.loc[questions_tags['counts']==1].Id\n",
    "mask_questions_one_tag = questions_data[\"Id\"].isin(questions_ids_with_one_tag)\n",
    "questions_data_one_tag = questions_data.loc[mask_questions_one_tag]\n",
    "answers_data_one_tag = answers_data[\"ParentId\"].isin(questions_ids_with_one_tag)\n",
    "answers_data_one_tag = answers_data.loc[answers_data_one_tag]"
   ]
  },
  {
   "cell_type": "code",
   "execution_count": 35,
   "metadata": {
    "execution": {
     "iopub.execute_input": "2021-09-13T00:39:20.159283Z",
     "iopub.status.busy": "2021-09-13T00:39:20.158773Z",
     "iopub.status.idle": "2021-09-13T00:39:20.16469Z",
     "shell.execute_reply": "2021-09-13T00:39:20.163928Z",
     "shell.execute_reply.started": "2021-09-13T00:39:20.159249Z"
    },
    "trusted": true
   },
   "outputs": [
    {
     "data": {
      "text/plain": [
       "(249006, 6)"
      ]
     },
     "execution_count": 35,
     "metadata": {},
     "output_type": "execute_result"
    }
   ],
   "source": [
    "answers_data_one_tag.shape"
   ]
  },
  {
   "cell_type": "code",
   "execution_count": 36,
   "metadata": {
    "execution": {
     "iopub.execute_input": "2021-09-13T00:35:03.097925Z",
     "iopub.status.busy": "2021-09-13T00:35:03.097555Z",
     "iopub.status.idle": "2021-09-13T00:35:03.104549Z",
     "shell.execute_reply": "2021-09-13T00:35:03.103425Z",
     "shell.execute_reply.started": "2021-09-13T00:35:03.097894Z"
    },
    "trusted": true
   },
   "outputs": [
    {
     "data": {
      "text/plain": [
       "(132480, 7)"
      ]
     },
     "execution_count": 36,
     "metadata": {},
     "output_type": "execute_result"
    }
   ],
   "source": [
    "questions_data_one_tag.shape"
   ]
  },
  {
   "cell_type": "code",
   "execution_count": 37,
   "metadata": {
    "execution": {
     "iopub.execute_input": "2021-09-13T00:40:20.218183Z",
     "iopub.status.busy": "2021-09-13T00:40:20.217849Z",
     "iopub.status.idle": "2021-09-13T00:40:20.225259Z",
     "shell.execute_reply": "2021-09-13T00:40:20.224135Z",
     "shell.execute_reply.started": "2021-09-13T00:40:20.218155Z"
    },
    "trusted": true
   },
   "outputs": [
    {
     "data": {
      "text/plain": [
       "Index(['Id', 'OwnerUserId', 'CreationDate', 'ClosedDate', 'Score', 'Title',\n",
       "       'Body'],\n",
       "      dtype='object')"
      ]
     },
     "execution_count": 37,
     "metadata": {},
     "output_type": "execute_result"
    }
   ],
   "source": [
    "questions_data_one_tag.columns"
   ]
  },
  {
   "cell_type": "code",
   "execution_count": 38,
   "metadata": {
    "execution": {
     "iopub.execute_input": "2021-09-13T00:41:03.690319Z",
     "iopub.status.busy": "2021-09-13T00:41:03.68995Z",
     "iopub.status.idle": "2021-09-13T00:41:03.697779Z",
     "shell.execute_reply": "2021-09-13T00:41:03.696529Z",
     "shell.execute_reply.started": "2021-09-13T00:41:03.690285Z"
    },
    "trusted": true
   },
   "outputs": [
    {
     "data": {
      "text/plain": [
       "Index(['Id', 'OwnerUserId', 'CreationDate', 'ParentId', 'Score', 'Body'], dtype='object')"
      ]
     },
     "execution_count": 38,
     "metadata": {},
     "output_type": "execute_result"
    }
   ],
   "source": [
    "answers_data_one_tag.columns"
   ]
  },
  {
   "cell_type": "code",
   "execution_count": 39,
   "metadata": {
    "execution": {
     "iopub.execute_input": "2021-09-13T00:40:44.098873Z",
     "iopub.status.busy": "2021-09-13T00:40:44.098282Z",
     "iopub.status.idle": "2021-09-13T00:40:44.11896Z",
     "shell.execute_reply": "2021-09-13T00:40:44.117331Z",
     "shell.execute_reply.started": "2021-09-13T00:40:44.098817Z"
    },
    "trusted": true
   },
   "outputs": [],
   "source": [
    "qs = questions_data_one_tag.drop(['CreationDate', 'ClosedDate', 'OwnerUserId'], axis=1)"
   ]
  },
  {
   "cell_type": "code",
   "execution_count": 40,
   "metadata": {
    "execution": {
     "iopub.execute_input": "2021-09-13T00:42:14.698896Z",
     "iopub.status.busy": "2021-09-13T00:42:14.698339Z",
     "iopub.status.idle": "2021-09-13T00:42:14.719305Z",
     "shell.execute_reply": "2021-09-13T00:42:14.718082Z",
     "shell.execute_reply.started": "2021-09-13T00:42:14.698859Z"
    },
    "trusted": true
   },
   "outputs": [],
   "source": [
    "answ = answers_data_one_tag.drop(['CreationDate', 'OwnerUserId'],axis=1)"
   ]
  },
  {
   "cell_type": "code",
   "execution_count": 41,
   "metadata": {
    "execution": {
     "iopub.execute_input": "2021-09-13T00:42:45.409969Z",
     "iopub.status.busy": "2021-09-13T00:42:45.40954Z",
     "iopub.status.idle": "2021-09-13T00:42:59.495539Z",
     "shell.execute_reply": "2021-09-13T00:42:59.494556Z",
     "shell.execute_reply.started": "2021-09-13T00:42:45.409934Z"
    },
    "trusted": true
   },
   "outputs": [],
   "source": [
    "qs.to_csv('./qs')\n",
    "answ.to_csv('./answ')"
   ]
  },
  {
   "cell_type": "markdown",
   "metadata": {},
   "source": [
    "## 2.3. Answers data"
   ]
  },
  {
   "cell_type": "code",
   "execution_count": 42,
   "metadata": {
    "execution": {
     "iopub.execute_input": "2021-09-06T11:10:53.812315Z",
     "iopub.status.busy": "2021-09-06T11:10:53.812058Z",
     "iopub.status.idle": "2021-09-06T11:10:53.825096Z",
     "shell.execute_reply": "2021-09-06T11:10:53.82403Z",
     "shell.execute_reply.started": "2021-09-06T11:10:53.812289Z"
    },
    "trusted": true
   },
   "outputs": [
    {
     "data": {
      "text/html": [
       "<div>\n",
       "<style scoped>\n",
       "    .dataframe tbody tr th:only-of-type {\n",
       "        vertical-align: middle;\n",
       "    }\n",
       "\n",
       "    .dataframe tbody tr th {\n",
       "        vertical-align: top;\n",
       "    }\n",
       "\n",
       "    .dataframe thead th {\n",
       "        text-align: right;\n",
       "    }\n",
       "</style>\n",
       "<table border=\"1\" class=\"dataframe\">\n",
       "  <thead>\n",
       "    <tr style=\"text-align: right;\">\n",
       "      <th></th>\n",
       "      <th>Id</th>\n",
       "      <th>OwnerUserId</th>\n",
       "      <th>CreationDate</th>\n",
       "      <th>ParentId</th>\n",
       "      <th>Score</th>\n",
       "      <th>Body</th>\n",
       "    </tr>\n",
       "  </thead>\n",
       "  <tbody>\n",
       "    <tr>\n",
       "      <th>0</th>\n",
       "      <td>92</td>\n",
       "      <td>61.0</td>\n",
       "      <td>2008-08-01T14:45:37Z</td>\n",
       "      <td>90</td>\n",
       "      <td>13</td>\n",
       "      <td>&lt;p&gt;&lt;a href=\"http://svnbook.red-bean.com/\"&gt;Vers...</td>\n",
       "    </tr>\n",
       "    <tr>\n",
       "      <th>1</th>\n",
       "      <td>124</td>\n",
       "      <td>26.0</td>\n",
       "      <td>2008-08-01T16:09:47Z</td>\n",
       "      <td>80</td>\n",
       "      <td>12</td>\n",
       "      <td>&lt;p&gt;I wound up using this. It is a kind of a ha...</td>\n",
       "    </tr>\n",
       "    <tr>\n",
       "      <th>2</th>\n",
       "      <td>199</td>\n",
       "      <td>50.0</td>\n",
       "      <td>2008-08-01T19:36:46Z</td>\n",
       "      <td>180</td>\n",
       "      <td>1</td>\n",
       "      <td>&lt;p&gt;I've read somewhere the human eye can't dis...</td>\n",
       "    </tr>\n",
       "    <tr>\n",
       "      <th>3</th>\n",
       "      <td>269</td>\n",
       "      <td>91.0</td>\n",
       "      <td>2008-08-01T23:49:57Z</td>\n",
       "      <td>260</td>\n",
       "      <td>4</td>\n",
       "      <td>&lt;p&gt;Yes, I thought about that, but I soon figur...</td>\n",
       "    </tr>\n",
       "    <tr>\n",
       "      <th>4</th>\n",
       "      <td>307</td>\n",
       "      <td>49.0</td>\n",
       "      <td>2008-08-02T01:49:46Z</td>\n",
       "      <td>260</td>\n",
       "      <td>28</td>\n",
       "      <td>&lt;p&gt;&lt;a href=\"http://www.codeproject.com/Article...</td>\n",
       "    </tr>\n",
       "  </tbody>\n",
       "</table>\n",
       "</div>"
      ],
      "text/plain": [
       "    Id  OwnerUserId          CreationDate  ParentId  Score  \\\n",
       "0   92         61.0  2008-08-01T14:45:37Z        90     13   \n",
       "1  124         26.0  2008-08-01T16:09:47Z        80     12   \n",
       "2  199         50.0  2008-08-01T19:36:46Z       180      1   \n",
       "3  269         91.0  2008-08-01T23:49:57Z       260      4   \n",
       "4  307         49.0  2008-08-02T01:49:46Z       260     28   \n",
       "\n",
       "                                                Body  \n",
       "0  <p><a href=\"http://svnbook.red-bean.com/\">Vers...  \n",
       "1  <p>I wound up using this. It is a kind of a ha...  \n",
       "2  <p>I've read somewhere the human eye can't dis...  \n",
       "3  <p>Yes, I thought about that, but I soon figur...  \n",
       "4  <p><a href=\"http://www.codeproject.com/Article...  "
      ]
     },
     "execution_count": 42,
     "metadata": {},
     "output_type": "execute_result"
    }
   ],
   "source": [
    "answers_data.head()"
   ]
  },
  {
   "cell_type": "code",
   "execution_count": 43,
   "metadata": {
    "execution": {
     "iopub.execute_input": "2021-09-06T11:10:53.826881Z",
     "iopub.status.busy": "2021-09-06T11:10:53.826444Z",
     "iopub.status.idle": "2021-09-06T11:10:53.845992Z",
     "shell.execute_reply": "2021-09-06T11:10:53.844784Z",
     "shell.execute_reply.started": "2021-09-06T11:10:53.826836Z"
    },
    "trusted": true
   },
   "outputs": [
    {
     "name": "stdout",
     "output_type": "stream",
     "text": [
      "<class 'pandas.core.frame.DataFrame'>\n",
      "RangeIndex: 2014516 entries, 0 to 2014515\n",
      "Data columns (total 6 columns):\n",
      " #   Column        Dtype  \n",
      "---  ------        -----  \n",
      " 0   Id            int64  \n",
      " 1   OwnerUserId   float64\n",
      " 2   CreationDate  object \n",
      " 3   ParentId      int64  \n",
      " 4   Score         int64  \n",
      " 5   Body          object \n",
      "dtypes: float64(1), int64(3), object(2)\n",
      "memory usage: 92.2+ MB\n"
     ]
    }
   ],
   "source": [
    "answers_data.info()"
   ]
  },
  {
   "cell_type": "code",
   "execution_count": 44,
   "metadata": {
    "execution": {
     "iopub.execute_input": "2021-09-06T11:10:53.848102Z",
     "iopub.status.busy": "2021-09-06T11:10:53.847659Z",
     "iopub.status.idle": "2021-09-06T11:10:54.346049Z",
     "shell.execute_reply": "2021-09-06T11:10:54.345041Z",
     "shell.execute_reply.started": "2021-09-06T11:10:53.848056Z"
    },
    "trusted": true
   },
   "outputs": [
    {
     "data": {
      "text/plain": [
       "Id                  0\n",
       "OwnerUserId     13200\n",
       "CreationDate        0\n",
       "ParentId            0\n",
       "Score               0\n",
       "Body                0\n",
       "dtype: int64"
      ]
     },
     "execution_count": 44,
     "metadata": {},
     "output_type": "execute_result"
    }
   ],
   "source": [
    "answers_data.isnull().sum()"
   ]
  },
  {
   "cell_type": "code",
   "execution_count": 45,
   "metadata": {
    "execution": {
     "iopub.execute_input": "2021-09-06T11:10:54.347519Z",
     "iopub.status.busy": "2021-09-06T11:10:54.347216Z",
     "iopub.status.idle": "2021-09-06T11:10:54.361954Z",
     "shell.execute_reply": "2021-09-06T11:10:54.360924Z",
     "shell.execute_reply.started": "2021-09-06T11:10:54.34749Z"
    },
    "trusted": true
   },
   "outputs": [],
   "source": [
    "answers = answers_data[['Id', 'ParentId', 'Score']]"
   ]
  },
  {
   "cell_type": "code",
   "execution_count": 46,
   "metadata": {
    "execution": {
     "iopub.execute_input": "2021-09-06T11:10:54.363638Z",
     "iopub.status.busy": "2021-09-06T11:10:54.363348Z",
     "iopub.status.idle": "2021-09-06T11:10:54.379599Z",
     "shell.execute_reply": "2021-09-06T11:10:54.378713Z",
     "shell.execute_reply.started": "2021-09-06T11:10:54.363609Z"
    },
    "trusted": true
   },
   "outputs": [
    {
     "name": "stdout",
     "output_type": "stream",
     "text": [
      "<class 'pandas.core.frame.DataFrame'>\n",
      "RangeIndex: 2014516 entries, 0 to 2014515\n",
      "Data columns (total 3 columns):\n",
      " #   Column    Dtype\n",
      "---  ------    -----\n",
      " 0   Id        int64\n",
      " 1   ParentId  int64\n",
      " 2   Score     int64\n",
      "dtypes: int64(3)\n",
      "memory usage: 46.1 MB\n"
     ]
    }
   ],
   "source": [
    "answers.info()"
   ]
  },
  {
   "cell_type": "code",
   "execution_count": 47,
   "metadata": {
    "execution": {
     "iopub.execute_input": "2021-09-06T11:10:54.381201Z",
     "iopub.status.busy": "2021-09-06T11:10:54.38092Z",
     "iopub.status.idle": "2021-09-06T11:10:54.630594Z",
     "shell.execute_reply": "2021-09-06T11:10:54.62958Z",
     "shell.execute_reply.started": "2021-09-06T11:10:54.381175Z"
    },
    "trusted": true
   },
   "outputs": [],
   "source": [
    "questions_grouped_by_answers = answers.ParentId.value_counts().rename_axis('ParentId').reset_index(name='counts').sort_values(by=['counts'], ascending=False)"
   ]
  },
  {
   "cell_type": "code",
   "execution_count": 48,
   "metadata": {
    "execution": {
     "iopub.execute_input": "2021-09-06T11:10:54.632391Z",
     "iopub.status.busy": "2021-09-06T11:10:54.631971Z",
     "iopub.status.idle": "2021-09-06T11:10:54.649163Z",
     "shell.execute_reply": "2021-09-06T11:10:54.648145Z",
     "shell.execute_reply.started": "2021-09-06T11:10:54.632349Z"
    },
    "trusted": true
   },
   "outputs": [
    {
     "name": "stdout",
     "output_type": "stream",
     "text": [
      "<class 'pandas.core.frame.DataFrame'>\n",
      "Int64Index: 1102568 entries, 0 to 1102567\n",
      "Data columns (total 2 columns):\n",
      " #   Column    Non-Null Count    Dtype\n",
      "---  ------    --------------    -----\n",
      " 0   ParentId  1102568 non-null  int64\n",
      " 1   counts    1102568 non-null  int64\n",
      "dtypes: int64(2)\n",
      "memory usage: 25.2 MB\n"
     ]
    }
   ],
   "source": [
    "questions_grouped_by_answers.info()"
   ]
  },
  {
   "cell_type": "code",
   "execution_count": 49,
   "metadata": {
    "execution": {
     "iopub.execute_input": "2021-09-06T11:10:54.650919Z",
     "iopub.status.busy": "2021-09-06T11:10:54.65051Z",
     "iopub.status.idle": "2021-09-06T11:10:54.741595Z",
     "shell.execute_reply": "2021-09-06T11:10:54.740714Z",
     "shell.execute_reply.started": "2021-09-06T11:10:54.650879Z"
    },
    "trusted": true
   },
   "outputs": [
    {
     "data": {
      "text/html": [
       "<div>\n",
       "<style scoped>\n",
       "    .dataframe tbody tr th:only-of-type {\n",
       "        vertical-align: middle;\n",
       "    }\n",
       "\n",
       "    .dataframe tbody tr th {\n",
       "        vertical-align: top;\n",
       "    }\n",
       "\n",
       "    .dataframe thead th {\n",
       "        text-align: right;\n",
       "    }\n",
       "</style>\n",
       "<table border=\"1\" class=\"dataframe\">\n",
       "  <thead>\n",
       "    <tr style=\"text-align: right;\">\n",
       "      <th></th>\n",
       "      <th>ParentId</th>\n",
       "      <th>counts</th>\n",
       "    </tr>\n",
       "  </thead>\n",
       "  <tbody>\n",
       "    <tr>\n",
       "      <th>count</th>\n",
       "      <td>1.102568e+06</td>\n",
       "      <td>1.102568e+06</td>\n",
       "    </tr>\n",
       "    <tr>\n",
       "      <th>mean</th>\n",
       "      <td>2.022392e+07</td>\n",
       "      <td>1.827113e+00</td>\n",
       "    </tr>\n",
       "    <tr>\n",
       "      <th>std</th>\n",
       "      <td>1.137302e+07</td>\n",
       "      <td>1.470211e+00</td>\n",
       "    </tr>\n",
       "    <tr>\n",
       "      <th>min</th>\n",
       "      <td>8.000000e+01</td>\n",
       "      <td>1.000000e+00</td>\n",
       "    </tr>\n",
       "    <tr>\n",
       "      <th>25%</th>\n",
       "      <td>1.039486e+07</td>\n",
       "      <td>1.000000e+00</td>\n",
       "    </tr>\n",
       "    <tr>\n",
       "      <th>50%</th>\n",
       "      <td>2.015800e+07</td>\n",
       "      <td>1.000000e+00</td>\n",
       "    </tr>\n",
       "    <tr>\n",
       "      <th>75%</th>\n",
       "      <td>3.005732e+07</td>\n",
       "      <td>2.000000e+00</td>\n",
       "    </tr>\n",
       "    <tr>\n",
       "      <th>max</th>\n",
       "      <td>4.014319e+07</td>\n",
       "      <td>4.080000e+02</td>\n",
       "    </tr>\n",
       "  </tbody>\n",
       "</table>\n",
       "</div>"
      ],
      "text/plain": [
       "           ParentId        counts\n",
       "count  1.102568e+06  1.102568e+06\n",
       "mean   2.022392e+07  1.827113e+00\n",
       "std    1.137302e+07  1.470211e+00\n",
       "min    8.000000e+01  1.000000e+00\n",
       "25%    1.039486e+07  1.000000e+00\n",
       "50%    2.015800e+07  1.000000e+00\n",
       "75%    3.005732e+07  2.000000e+00\n",
       "max    4.014319e+07  4.080000e+02"
      ]
     },
     "execution_count": 49,
     "metadata": {},
     "output_type": "execute_result"
    }
   ],
   "source": [
    "questions_grouped_by_answers.describe()"
   ]
  },
  {
   "cell_type": "code",
   "execution_count": 50,
   "metadata": {
    "execution": {
     "iopub.execute_input": "2021-09-06T11:10:54.743212Z",
     "iopub.status.busy": "2021-09-06T11:10:54.742863Z",
     "iopub.status.idle": "2021-09-06T11:10:54.753837Z",
     "shell.execute_reply": "2021-09-06T11:10:54.752696Z",
     "shell.execute_reply.started": "2021-09-06T11:10:54.743182Z"
    },
    "trusted": true
   },
   "outputs": [
    {
     "data": {
      "text/html": [
       "<div>\n",
       "<style scoped>\n",
       "    .dataframe tbody tr th:only-of-type {\n",
       "        vertical-align: middle;\n",
       "    }\n",
       "\n",
       "    .dataframe tbody tr th {\n",
       "        vertical-align: top;\n",
       "    }\n",
       "\n",
       "    .dataframe thead th {\n",
       "        text-align: right;\n",
       "    }\n",
       "</style>\n",
       "<table border=\"1\" class=\"dataframe\">\n",
       "  <thead>\n",
       "    <tr style=\"text-align: right;\">\n",
       "      <th></th>\n",
       "      <th>ParentId</th>\n",
       "      <th>counts</th>\n",
       "    </tr>\n",
       "  </thead>\n",
       "  <tbody>\n",
       "    <tr>\n",
       "      <th>0</th>\n",
       "      <td>406760</td>\n",
       "      <td>408</td>\n",
       "    </tr>\n",
       "    <tr>\n",
       "      <th>1</th>\n",
       "      <td>38210</td>\n",
       "      <td>316</td>\n",
       "    </tr>\n",
       "    <tr>\n",
       "      <th>2</th>\n",
       "      <td>23930</td>\n",
       "      <td>129</td>\n",
       "    </tr>\n",
       "    <tr>\n",
       "      <th>3</th>\n",
       "      <td>100420</td>\n",
       "      <td>100</td>\n",
       "    </tr>\n",
       "    <tr>\n",
       "      <th>4</th>\n",
       "      <td>40480</td>\n",
       "      <td>69</td>\n",
       "    </tr>\n",
       "    <tr>\n",
       "      <th>5</th>\n",
       "      <td>490420</td>\n",
       "      <td>67</td>\n",
       "    </tr>\n",
       "    <tr>\n",
       "      <th>6</th>\n",
       "      <td>106340</td>\n",
       "      <td>61</td>\n",
       "    </tr>\n",
       "    <tr>\n",
       "      <th>7</th>\n",
       "      <td>2155930</td>\n",
       "      <td>59</td>\n",
       "    </tr>\n",
       "    <tr>\n",
       "      <th>8</th>\n",
       "      <td>226970</td>\n",
       "      <td>55</td>\n",
       "    </tr>\n",
       "    <tr>\n",
       "      <th>9</th>\n",
       "      <td>202750</td>\n",
       "      <td>51</td>\n",
       "    </tr>\n",
       "  </tbody>\n",
       "</table>\n",
       "</div>"
      ],
      "text/plain": [
       "   ParentId  counts\n",
       "0    406760     408\n",
       "1     38210     316\n",
       "2     23930     129\n",
       "3    100420     100\n",
       "4     40480      69\n",
       "5    490420      67\n",
       "6    106340      61\n",
       "7   2155930      59\n",
       "8    226970      55\n",
       "9    202750      51"
      ]
     },
     "execution_count": 50,
     "metadata": {},
     "output_type": "execute_result"
    }
   ],
   "source": [
    "questions_grouped_by_answers.head(10)"
   ]
  },
  {
   "cell_type": "code",
   "execution_count": 51,
   "metadata": {
    "execution": {
     "iopub.execute_input": "2021-09-06T11:10:54.755758Z",
     "iopub.status.busy": "2021-09-06T11:10:54.755323Z",
     "iopub.status.idle": "2021-09-06T11:10:55.893375Z",
     "shell.execute_reply": "2021-09-06T11:10:55.892444Z",
     "shell.execute_reply.started": "2021-09-06T11:10:54.755718Z"
    },
    "trusted": true
   },
   "outputs": [
    {
     "data": {
      "text/plain": [
       "Text(0, 0.5, 'Number of Answers')"
      ]
     },
     "execution_count": 51,
     "metadata": {},
     "output_type": "execute_result"
    },
    {
     "data": {
      "image/png": "[encoded data removed]",
      "text/plain": [
       "<Figure size 1152x432 with 1 Axes>"
      ]
     },
     "metadata": {
      "needs_background": "light"
     },
     "output_type": "display_data"
    }
   ],
   "source": [
    "plt.figure(figsize=(16,6))\n",
    "\n",
    "plt.title(\"Answers Distribution According To Questions\")\n",
    "#sns.barplot(x=questions_grouped_by_answers.loc[:50].ParentId, y=questions_grouped_by_answers[:50].counts)\n",
    "sns.barplot(x='ParentId', y=\"counts\", \n",
    "            data=questions_grouped_by_answers.loc[:50],\n",
    "            order=questions_grouped_by_answers.loc[:50].sort_values('counts', ascending=False).ParentId)\n",
    "\n",
    "plt.xticks(rotation=90)\n",
    "plt.ylabel(\"Number of Answers\")"
   ]
  },
  {
   "cell_type": "code",
   "execution_count": 52,
   "metadata": {
    "execution": {
     "iopub.execute_input": "2021-09-06T11:10:55.895053Z",
     "iopub.status.busy": "2021-09-06T11:10:55.894631Z",
     "iopub.status.idle": "2021-09-06T11:10:55.908457Z",
     "shell.execute_reply": "2021-09-06T11:10:55.90768Z",
     "shell.execute_reply.started": "2021-09-06T11:10:55.895012Z"
    },
    "trusted": true
   },
   "outputs": [
    {
     "data": {
      "text/html": [
       "<div>\n",
       "<style scoped>\n",
       "    .dataframe tbody tr th:only-of-type {\n",
       "        vertical-align: middle;\n",
       "    }\n",
       "\n",
       "    .dataframe tbody tr th {\n",
       "        vertical-align: top;\n",
       "    }\n",
       "\n",
       "    .dataframe thead th {\n",
       "        text-align: right;\n",
       "    }\n",
       "</style>\n",
       "<table border=\"1\" class=\"dataframe\">\n",
       "  <thead>\n",
       "    <tr style=\"text-align: right;\">\n",
       "      <th></th>\n",
       "      <th>ParentId</th>\n",
       "      <th>counts</th>\n",
       "    </tr>\n",
       "  </thead>\n",
       "  <tbody>\n",
       "    <tr>\n",
       "      <th>55</th>\n",
       "      <td>517970</td>\n",
       "      <td>31</td>\n",
       "    </tr>\n",
       "  </tbody>\n",
       "</table>\n",
       "</div>"
      ],
      "text/plain": [
       "    ParentId  counts\n",
       "55    517970      31"
      ]
     },
     "execution_count": 52,
     "metadata": {},
     "output_type": "execute_result"
    }
   ],
   "source": [
    "questions_grouped_by_answers.loc[questions_grouped_by_answers['ParentId']==517970]"
   ]
  },
  {
   "cell_type": "code",
   "execution_count": 53,
   "metadata": {
    "execution": {
     "iopub.execute_input": "2021-09-06T11:10:55.909834Z",
     "iopub.status.busy": "2021-09-06T11:10:55.909532Z",
     "iopub.status.idle": "2021-09-06T11:10:55.926617Z",
     "shell.execute_reply": "2021-09-06T11:10:55.92596Z",
     "shell.execute_reply.started": "2021-09-06T11:10:55.909806Z"
    },
    "trusted": true
   },
   "outputs": [
    {
     "data": {
      "text/html": [
       "<div>\n",
       "<style scoped>\n",
       "    .dataframe tbody tr th:only-of-type {\n",
       "        vertical-align: middle;\n",
       "    }\n",
       "\n",
       "    .dataframe tbody tr th {\n",
       "        vertical-align: top;\n",
       "    }\n",
       "\n",
       "    .dataframe thead th {\n",
       "        text-align: right;\n",
       "    }\n",
       "</style>\n",
       "<table border=\"1\" class=\"dataframe\">\n",
       "  <thead>\n",
       "    <tr style=\"text-align: right;\">\n",
       "      <th></th>\n",
       "      <th>Id</th>\n",
       "      <th>OwnerUserId</th>\n",
       "      <th>CreationDate</th>\n",
       "      <th>ParentId</th>\n",
       "      <th>Score</th>\n",
       "      <th>Body</th>\n",
       "    </tr>\n",
       "  </thead>\n",
       "  <tbody>\n",
       "    <tr>\n",
       "      <th>28207</th>\n",
       "      <td>517992</td>\n",
       "      <td>43089.0</td>\n",
       "      <td>2009-02-05T21:22:43Z</td>\n",
       "      <td>517970</td>\n",
       "      <td>56</td>\n",
       "      <td>&lt;p&gt;Well, here's a quick hack:&lt;/p&gt;\\n\\n&lt;pre&gt;&lt;cod...</td>\n",
       "    </tr>\n",
       "    <tr>\n",
       "      <th>28209</th>\n",
       "      <td>518007</td>\n",
       "      <td>2696.0</td>\n",
       "      <td>2009-02-05T21:25:08Z</td>\n",
       "      <td>517970</td>\n",
       "      <td>218</td>\n",
       "      <td>&lt;p&gt;As you mentioned, you can do a system call:...</td>\n",
       "    </tr>\n",
       "    <tr>\n",
       "      <th>28243</th>\n",
       "      <td>518401</td>\n",
       "      <td>10661.0</td>\n",
       "      <td>2009-02-05T23:03:55Z</td>\n",
       "      <td>517970</td>\n",
       "      <td>5</td>\n",
       "      <td>&lt;p&gt;Use idle. It has many handy features.  &lt;kbd...</td>\n",
       "    </tr>\n",
       "    <tr>\n",
       "      <th>28250</th>\n",
       "      <td>518540</td>\n",
       "      <td>21384.0</td>\n",
       "      <td>2009-02-05T23:51:51Z</td>\n",
       "      <td>517970</td>\n",
       "      <td>1</td>\n",
       "      <td>&lt;p&gt;EDIT: I've just read \"windows\", this is for...</td>\n",
       "    </tr>\n",
       "    <tr>\n",
       "      <th>38432</th>\n",
       "      <td>684344</td>\n",
       "      <td>47850.0</td>\n",
       "      <td>2009-03-26T02:42:42Z</td>\n",
       "      <td>517970</td>\n",
       "      <td>111</td>\n",
       "      <td>&lt;p&gt;here something handy that is a little more ...</td>\n",
       "    </tr>\n",
       "  </tbody>\n",
       "</table>\n",
       "</div>"
      ],
      "text/plain": [
       "           Id  OwnerUserId          CreationDate  ParentId  Score  \\\n",
       "28207  517992      43089.0  2009-02-05T21:22:43Z    517970     56   \n",
       "28209  518007       2696.0  2009-02-05T21:25:08Z    517970    218   \n",
       "28243  518401      10661.0  2009-02-05T23:03:55Z    517970      5   \n",
       "28250  518540      21384.0  2009-02-05T23:51:51Z    517970      1   \n",
       "38432  684344      47850.0  2009-03-26T02:42:42Z    517970    111   \n",
       "\n",
       "                                                    Body  \n",
       "28207  <p>Well, here's a quick hack:</p>\\n\\n<pre><cod...  \n",
       "28209  <p>As you mentioned, you can do a system call:...  \n",
       "28243  <p>Use idle. It has many handy features.  <kbd...  \n",
       "28250  <p>EDIT: I've just read \"windows\", this is for...  \n",
       "38432  <p>here something handy that is a little more ...  "
      ]
     },
     "execution_count": 53,
     "metadata": {},
     "output_type": "execute_result"
    }
   ],
   "source": [
    "answers_data.loc[answers_data['ParentId']==517970].head()"
   ]
  },
  {
   "cell_type": "code",
   "execution_count": 54,
   "metadata": {
    "execution": {
     "iopub.execute_input": "2021-09-06T11:10:55.927977Z",
     "iopub.status.busy": "2021-09-06T11:10:55.927571Z",
     "iopub.status.idle": "2021-09-06T11:10:55.995212Z",
     "shell.execute_reply": "2021-09-06T11:10:55.994409Z",
     "shell.execute_reply.started": "2021-09-06T11:10:55.927949Z"
    },
    "trusted": true
   },
   "outputs": [
    {
     "data": {
      "text/plain": [
       "count    2.014516e+06\n",
       "mean     2.480563e+00\n",
       "std      1.590938e+01\n",
       "min     -4.200000e+01\n",
       "25%      0.000000e+00\n",
       "50%      1.000000e+00\n",
       "75%      2.000000e+00\n",
       "max      5.718000e+03\n",
       "Name: Score, dtype: float64"
      ]
     },
     "execution_count": 54,
     "metadata": {},
     "output_type": "execute_result"
    }
   ],
   "source": [
    "answers.Score.describe()"
   ]
  },
  {
   "cell_type": "code",
   "execution_count": 55,
   "metadata": {
    "execution": {
     "iopub.execute_input": "2021-09-06T11:10:55.996544Z",
     "iopub.status.busy": "2021-09-06T11:10:55.99617Z",
     "iopub.status.idle": "2021-09-06T11:10:56.224242Z",
     "shell.execute_reply": "2021-09-06T11:10:56.223583Z",
     "shell.execute_reply.started": "2021-09-06T11:10:55.996515Z"
    },
    "trusted": true
   },
   "outputs": [
    {
     "data": {
      "text/plain": [
       "(50, 3)"
      ]
     },
     "execution_count": 55,
     "metadata": {},
     "output_type": "execute_result"
    }
   ],
   "source": [
    "df = answers.sort_values('Score', ascending=False)\n",
    "d = df.head(50)\n",
    "d.shape"
   ]
  },
  {
   "cell_type": "code",
   "execution_count": 56,
   "metadata": {
    "execution": {
     "iopub.execute_input": "2021-09-06T11:10:56.225559Z",
     "iopub.status.busy": "2021-09-06T11:10:56.225191Z",
     "iopub.status.idle": "2021-09-06T11:10:57.023686Z",
     "shell.execute_reply": "2021-09-06T11:10:57.02284Z",
     "shell.execute_reply.started": "2021-09-06T11:10:56.225532Z"
    },
    "trusted": true
   },
   "outputs": [
    {
     "data": {
      "text/plain": [
       "Text(0, 0.5, 'Number of Answers')"
      ]
     },
     "execution_count": 56,
     "metadata": {},
     "output_type": "execute_result"
    },
    {
     "data": {
      "image/png": "[encoded data removed]",
      "text/plain": [
       "<Figure size 1152x432 with 1 Axes>"
      ]
     },
     "metadata": {
      "needs_background": "light"
     },
     "output_type": "display_data"
    }
   ],
   "source": [
    "plt.figure(figsize=(16,6))\n",
    "\n",
    "plt.title(\"Score\")\n",
    "sns.barplot(x='Id', y=\"Score\", \n",
    "            data=d,\n",
    "            order=d.sort_values('Score', ascending=False).Id)\n",
    "\n",
    "plt.xticks(rotation=90)\n",
    "plt.ylabel(\"Number of Answers\")"
   ]
  },
  {
   "cell_type": "markdown",
   "metadata": {},
   "source": [
    "# 3. Data cleaning"
   ]
  },
  {
   "cell_type": "code",
   "execution_count": 57,
   "metadata": {
    "execution": {
     "iopub.execute_input": "2021-09-06T11:10:57.025105Z",
     "iopub.status.busy": "2021-09-06T11:10:57.024826Z",
     "iopub.status.idle": "2021-09-06T11:10:57.035218Z",
     "shell.execute_reply": "2021-09-06T11:10:57.034229Z",
     "shell.execute_reply.started": "2021-09-06T11:10:57.025078Z"
    },
    "trusted": true
   },
   "outputs": [
    {
     "data": {
      "text/plain": [
       "Id                                                             80\n",
       "OwnerUserId                                                  26.0\n",
       "CreationDate                                 2008-08-01T13:57:07Z\n",
       "ClosedDate                                                    NaN\n",
       "Score                                                          26\n",
       "Title           SQLStatement.execute() - multiple queries in o...\n",
       "Body            <p>I've written a database generation script i...\n",
       "Name: 0, dtype: object"
      ]
     },
     "execution_count": 57,
     "metadata": {},
     "output_type": "execute_result"
    }
   ],
   "source": [
    "question = questions_data.loc[0]\n",
    "question"
   ]
  },
  {
   "cell_type": "code",
   "execution_count": 58,
   "metadata": {
    "execution": {
     "iopub.execute_input": "2021-09-06T11:10:57.036642Z",
     "iopub.status.busy": "2021-09-06T11:10:57.036377Z",
     "iopub.status.idle": "2021-09-06T11:10:57.042116Z",
     "shell.execute_reply": "2021-09-06T11:10:57.041115Z",
     "shell.execute_reply.started": "2021-09-06T11:10:57.036616Z"
    },
    "trusted": true
   },
   "outputs": [],
   "source": [
    "def tags_in_question(question):\n",
    "    df = tags_data.loc[tags_data[\"Id\"]==question.Id]\n",
    "    result = []\n",
    "    for index, row in df.iterrows():\n",
    "        result.append(row.Tag)\n",
    "    return result"
   ]
  },
  {
   "cell_type": "code",
   "execution_count": 59,
   "metadata": {
    "execution": {
     "iopub.execute_input": "2021-09-06T11:10:57.044179Z",
     "iopub.status.busy": "2021-09-06T11:10:57.043652Z",
     "iopub.status.idle": "2021-09-06T11:10:57.053406Z",
     "shell.execute_reply": "2021-09-06T11:10:57.052626Z",
     "shell.execute_reply.started": "2021-09-06T11:10:57.044044Z"
    },
    "trusted": true
   },
   "outputs": [],
   "source": [
    "def question_to_tags_vector(question):\n",
    "    tags_q = tags_in_question(question)\n",
    "    result = pd.Series()\n",
    "    for index, row in tags.iterrows():\n",
    "        if row.Tag in tags_q:\n",
    "            result[row.Tag]=1\n",
    "        else:\n",
    "            result[row.Tag]=0\n",
    "    return result"
   ]
  },
  {
   "cell_type": "code",
   "execution_count": 60,
   "metadata": {
    "execution": {
     "iopub.execute_input": "2021-09-06T11:10:57.055169Z",
     "iopub.status.busy": "2021-09-06T11:10:57.054634Z",
     "iopub.status.idle": "2021-09-06T11:11:00.27314Z",
     "shell.execute_reply": "2021-09-06T11:11:00.272162Z",
     "shell.execute_reply.started": "2021-09-06T11:10:57.055135Z"
    },
    "trusted": true
   },
   "outputs": [
    {
     "name": "stderr",
     "output_type": "stream",
     "text": [
      "/tmp/ipykernel_1024636/2523397441.py:3: FutureWarning: The default dtype for empty Series will be 'object' instead of 'float64' in a future version. Specify a dtype explicitly to silence this warning.\n",
      "  result = pd.Series()\n"
     ]
    },
    {
     "data": {
      "text/plain": [
       "javascript        0\n",
       "java              0\n",
       "c#                0\n",
       "php               0\n",
       "android           0\n",
       "                 ..\n",
       "put               0\n",
       "checksum          0\n",
       "egit              0\n",
       "iis-express       0\n",
       "retina-display    0\n",
       "Length: 3028, dtype: int64"
      ]
     },
     "execution_count": 60,
     "metadata": {},
     "output_type": "execute_result"
    }
   ],
   "source": [
    "question_to_tags_vector(question)"
   ]
  },
  {
   "cell_type": "markdown",
   "metadata": {},
   "source": [
    "# 4. Data Extraction"
   ]
  },
  {
   "cell_type": "code",
   "execution_count": 61,
   "metadata": {
    "execution": {
     "iopub.execute_input": "2021-09-06T11:11:00.275344Z",
     "iopub.status.busy": "2021-09-06T11:11:00.27464Z",
     "iopub.status.idle": "2021-09-06T11:11:00.568597Z",
     "shell.execute_reply": "2021-09-06T11:11:00.567555Z",
     "shell.execute_reply.started": "2021-09-06T11:11:00.275298Z"
    },
    "trusted": true
   },
   "outputs": [
    {
     "data": {
      "text/plain": [
       "array(['2008-08-01T13:57:07Z', '2008-08-01T14:41:24Z',\n",
       "       '2008-08-01T15:50:08Z', ..., '2016-10-19T23:05:49Z',\n",
       "       '2016-10-19T23:08:42Z', '2016-10-19T23:36:01Z'], dtype=object)"
      ]
     },
     "execution_count": 61,
     "metadata": {},
     "output_type": "execute_result"
    }
   ],
   "source": [
    "questions_data['CreationDate'].unique()"
   ]
  },
  {
   "cell_type": "code",
   "execution_count": 62,
   "metadata": {
    "execution": {
     "iopub.execute_input": "2021-09-06T11:11:00.570555Z",
     "iopub.status.busy": "2021-09-06T11:11:00.569979Z",
     "iopub.status.idle": "2021-09-06T11:11:01.170403Z",
     "shell.execute_reply": "2021-09-06T11:11:01.169333Z",
     "shell.execute_reply.started": "2021-09-06T11:11:00.57051Z"
    },
    "trusted": true
   },
   "outputs": [],
   "source": [
    "train_questions = questions_data[(questions_data['CreationDate'] >= '2008-01-01')&(questions_data['CreationDate'] <= '2008-12-31')]\n",
    "test_questions = questions_data[(questions_data['CreationDate'] >= '2009-01-01')&(questions_data['CreationDate'] <= '2009-12-31')]"
   ]
  },
  {
   "cell_type": "code",
   "execution_count": 63,
   "metadata": {
    "execution": {
     "iopub.execute_input": "2021-09-06T11:11:01.171907Z",
     "iopub.status.busy": "2021-09-06T11:11:01.171602Z",
     "iopub.status.idle": "2021-09-06T11:11:01.17681Z",
     "shell.execute_reply": "2021-09-06T11:11:01.175975Z",
     "shell.execute_reply.started": "2021-09-06T11:11:01.171878Z"
    },
    "trusted": true
   },
   "outputs": [
    {
     "name": "stdout",
     "output_type": "stream",
     "text": [
      "(5789, 7)\n",
      "(34279, 7)\n"
     ]
    }
   ],
   "source": [
    "print(train_questions.shape)\n",
    "print(test_questions.shape)"
   ]
  },
  {
   "cell_type": "code",
   "execution_count": 64,
   "metadata": {
    "execution": {
     "iopub.execute_input": "2021-09-06T11:11:01.178227Z",
     "iopub.status.busy": "2021-09-06T11:11:01.177946Z",
     "iopub.status.idle": "2021-09-06T11:11:01.189985Z",
     "shell.execute_reply": "2021-09-06T11:11:01.189005Z",
     "shell.execute_reply.started": "2021-09-06T11:11:01.178199Z"
    },
    "trusted": true
   },
   "outputs": [],
   "source": [
    "def questions_year(year):\n",
    "    start_date = str(year)+'-01-01'\n",
    "    end_date = str(year)+'-12-31'\n",
    "    data = questions_data[(questions_data['CreationDate'] >= start_date)&(questions_data['CreationDate'] <= end_date)]\n",
    "    print(\"Dataset size from \", start_date, \" to \", end_date,\": \",data.shape)\n",
    "    return data"
   ]
  },
  {
   "cell_type": "code",
   "execution_count": 65,
   "metadata": {
    "execution": {
     "iopub.execute_input": "2021-09-06T11:11:01.191459Z",
     "iopub.status.busy": "2021-09-06T11:11:01.191204Z",
     "iopub.status.idle": "2021-09-06T11:11:04.009405Z",
     "shell.execute_reply": "2021-09-06T11:11:04.008352Z",
     "shell.execute_reply.started": "2021-09-06T11:11:01.191433Z"
    },
    "trusted": true
   },
   "outputs": [
    {
     "name": "stdout",
     "output_type": "stream",
     "text": [
      "Dataset size from  2008-01-01  to  2008-12-31 :  (5789, 7)\n",
      "Dataset size from  2009-01-01  to  2009-12-31 :  (34279, 7)\n",
      "Dataset size from  2010-01-01  to  2010-12-31 :  (69260, 7)\n",
      "Dataset size from  2011-01-01  to  2011-12-31 :  (116522, 7)\n",
      "Dataset size from  2012-01-01  to  2012-12-31 :  (155608, 7)\n",
      "Dataset size from  2013-01-01  to  2013-12-31 :  (187888, 7)\n",
      "Dataset size from  2014-01-01  to  2014-12-31 :  (190633, 7)\n",
      "Dataset size from  2015-01-01  to  2015-12-31 :  (190608, 7)\n",
      "Dataset size from  2016-01-01  to  2016-12-31 :  (150157, 7)\n"
     ]
    }
   ],
   "source": [
    "for i in range(2008, 2017):\n",
    "    a = questions_year(i)"
   ]
  },
  {
   "cell_type": "code",
   "execution_count": 66,
   "metadata": {
    "execution": {
     "iopub.execute_input": "2021-09-06T11:11:54.566482Z",
     "iopub.status.busy": "2021-09-06T11:11:54.56614Z",
     "iopub.status.idle": "2021-09-06T11:11:55.167757Z",
     "shell.execute_reply": "2021-09-06T11:11:55.166732Z",
     "shell.execute_reply.started": "2021-09-06T11:11:54.566453Z"
    },
    "trusted": true
   },
   "outputs": [
    {
     "name": "stdout",
     "output_type": "stream",
     "text": [
      "Dataset size from  2009-01-01  to  2009-12-31 :  (34279, 7)\n",
      "Dataset size from  2008-01-01  to  2008-12-31 :  (5789, 7)\n"
     ]
    }
   ],
   "source": [
    "questions_2009 = questions_year(2009)\n",
    "questions_2008 = questions_year(2008)"
   ]
  },
  {
   "cell_type": "code",
   "execution_count": 67,
   "metadata": {
    "execution": {
     "iopub.execute_input": "2021-09-06T11:23:50.80552Z",
     "iopub.status.busy": "2021-09-06T11:23:50.805164Z",
     "iopub.status.idle": "2021-09-06T11:23:50.810593Z",
     "shell.execute_reply": "2021-09-06T11:23:50.809565Z",
     "shell.execute_reply.started": "2021-09-06T11:23:50.805487Z"
    },
    "trusted": true
   },
   "outputs": [],
   "source": [
    "ids = questions_2008.Id.unique()\n",
    "ids = ids.tolist()"
   ]
  },
  {
   "cell_type": "code",
   "execution_count": 68,
   "metadata": {
    "execution": {
     "iopub.execute_input": "2021-09-06T11:25:48.725804Z",
     "iopub.status.busy": "2021-09-06T11:25:48.725435Z",
     "iopub.status.idle": "2021-09-06T11:25:48.786828Z",
     "shell.execute_reply": "2021-09-06T11:25:48.785941Z",
     "shell.execute_reply.started": "2021-09-06T11:25:48.725774Z"
    },
    "trusted": true
   },
   "outputs": [
    {
     "data": {
      "text/plain": [
       "(30136, 6)"
      ]
     },
     "execution_count": 68,
     "metadata": {},
     "output_type": "execute_result"
    }
   ],
   "source": [
    "answers_2008_mask = answers_data['ParentId'].isin(ids)\n",
    "answers_2008 = answers_data.loc[answers_2008_mask]\n",
    "answers_2008.shape"
   ]
  },
  {
   "cell_type": "code",
   "execution_count": 69,
   "metadata": {
    "execution": {
     "iopub.execute_input": "2021-09-06T11:26:57.0034Z",
     "iopub.status.busy": "2021-09-06T11:26:57.003041Z",
     "iopub.status.idle": "2021-09-06T11:26:57.08371Z",
     "shell.execute_reply": "2021-09-06T11:26:57.082751Z",
     "shell.execute_reply.started": "2021-09-06T11:26:57.003368Z"
    },
    "trusted": true
   },
   "outputs": [
    {
     "data": {
      "text/plain": [
       "(112854, 6)"
      ]
     },
     "execution_count": 69,
     "metadata": {},
     "output_type": "execute_result"
    }
   ],
   "source": [
    "ids_2009 = questions_2009.Id.unique()\n",
    "ids_2009 = ids_2009.tolist()\n",
    "\n",
    "answers_2009_mask = answers_data['ParentId'].isin(ids_2009)\n",
    "answers_2009 = answers_data.loc[answers_2009_mask]\n",
    "answers_2009.shape"
   ]
  },
  {
   "cell_type": "code",
   "execution_count": 70,
   "metadata": {
    "execution": {
     "iopub.execute_input": "2021-09-06T11:28:47.807272Z",
     "iopub.status.busy": "2021-09-06T11:28:47.806887Z",
     "iopub.status.idle": "2021-09-06T11:28:54.384418Z",
     "shell.execute_reply": "2021-09-06T11:28:54.383431Z",
     "shell.execute_reply.started": "2021-09-06T11:28:47.80724Z"
    },
    "trusted": true
   },
   "outputs": [],
   "source": [
    "questions_2008.to_csv('./questions_2008.csv')\n",
    "questions_2009.to_csv('./questions_2009.csv')\n",
    "\n",
    "answers_2008.to_csv('./answers_2008.csv')\n",
    "answers_2009.to_csv('./answers_2009.csv')"
   ]
  },
  {
   "cell_type": "code",
   "execution_count": null,
   "metadata": {},
   "outputs": [],
   "source": []
  }
 ],
 "metadata": {
  "kernelspec": {
   "display_name": "Python 3.10.4 ('run_nbs')",
   "language": "python",
   "name": "python3"
  },
  "language_info": {
   "codemirror_mode": {
    "name": "ipython",
    "version": 3
   },
   "file_extension": ".py",
   "mimetype": "text/x-python",
   "name": "python",
   "nbconvert_exporter": "python",
   "pygments_lexer": "ipython3",
   "version": "3.10.4"
  },
  "vscode": {
   "interpreter": {
    "hash": "45bd4a16d92348c077dd3729cbdf8789e68453a60bfdce0a5170705400ab5ef4"
   }
  }
 },
 "nbformat": 4,
 "nbformat_minor": 4
}
